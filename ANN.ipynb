{
  "nbformat": 4,
  "nbformat_minor": 0,
  "metadata": {
    "colab": {
      "provenance": [],
      "toc_visible": true,
      "authorship_tag": "ABX9TyOG2DI8iy7VOy88X/FxKjOd",
      "include_colab_link": true
    },
    "kernelspec": {
      "name": "python3",
      "display_name": "Python 3"
    },
    "language_info": {
      "name": "python"
    }
  },
  "cells": [
    {
      "cell_type": "markdown",
      "metadata": {
        "id": "view-in-github",
        "colab_type": "text"
      },
      "source": [
        "<a href=\"https://colab.research.google.com/github/KNRROHIT509/ENSEMBLE-MODEL/blob/main/ANN.ipynb\" target=\"_parent\"><img src=\"https://colab.research.google.com/assets/colab-badge.svg\" alt=\"Open In Colab\"/></a>"
      ]
    },
    {
      "cell_type": "code",
      "execution_count": 1,
      "metadata": {
        "id": "2MuSXPOPvaHz"
      },
      "outputs": [],
      "source": [
        "import numpy as np\n",
        "import pandas as pd\n",
        "import datetime as dt\n",
        "import tensorflow as tf\n",
        "import matplotlib.pyplot as plt\n",
        "\n",
        "\n",
        "from sklearn.preprocessing import MinMaxScaler\n",
        "from sklearn.metrics import mean_squared_error\n",
        "\n",
        "from tensorflow.keras.models import Sequential\n",
        "from tensorflow.keras.layers import Dense, LSTM, Dropout\n",
        "from tensorflow.keras.callbacks import ModelCheckpoint, EarlyStopping\n",
        "\n",
        "\n",
        "import warnings\n",
        "warnings.filterwarnings('ignore')\n"
      ]
    },
    {
      "cell_type": "code",
      "source": [
        "df = pd.read_csv(\"/tsla.us.txt\")\n",
        "df"
      ],
      "metadata": {
        "colab": {
          "base_uri": "https://localhost:8080/",
          "height": 423
        },
        "id": "qmgOytqAvb5W",
        "outputId": "0b4b4708-ed06-412f-89f9-627ee964288d"
      },
      "execution_count": 2,
      "outputs": [
        {
          "output_type": "execute_result",
          "data": {
            "text/plain": [
              "            Date    Open    High     Low   Close    Volume  OpenInt\n",
              "0     2010-06-28   17.00   17.00   17.00   17.00         0        0\n",
              "1     2010-06-29   19.00   25.00   17.54   23.89  18783276        0\n",
              "2     2010-06-30   25.79   30.42   23.30   23.83  17194394        0\n",
              "3     2010-07-01   25.00   25.92   20.27   21.96   8229863        0\n",
              "4     2010-07-02   23.00   23.10   18.71   19.20   5141807        0\n",
              "...          ...     ...     ...     ...     ...       ...      ...\n",
              "1853  2017-11-06  307.00  307.50  299.01  302.78   6482486        0\n",
              "1854  2017-11-07  301.02  306.50  300.03  306.05   5286320        0\n",
              "1855  2017-11-08  305.50  306.89  301.30  304.31   4725510        0\n",
              "1856  2017-11-09  302.50  304.46  296.30  302.99   5440335        0\n",
              "1857  2017-11-10  302.50  308.36  301.85  302.99   4621912        0\n",
              "\n",
              "[1858 rows x 7 columns]"
            ],
            "text/html": [
              "\n",
              "  <div id=\"df-6c286f4e-545f-4199-8f73-d2c9486b5c74\">\n",
              "    <div class=\"colab-df-container\">\n",
              "      <div>\n",
              "<style scoped>\n",
              "    .dataframe tbody tr th:only-of-type {\n",
              "        vertical-align: middle;\n",
              "    }\n",
              "\n",
              "    .dataframe tbody tr th {\n",
              "        vertical-align: top;\n",
              "    }\n",
              "\n",
              "    .dataframe thead th {\n",
              "        text-align: right;\n",
              "    }\n",
              "</style>\n",
              "<table border=\"1\" class=\"dataframe\">\n",
              "  <thead>\n",
              "    <tr style=\"text-align: right;\">\n",
              "      <th></th>\n",
              "      <th>Date</th>\n",
              "      <th>Open</th>\n",
              "      <th>High</th>\n",
              "      <th>Low</th>\n",
              "      <th>Close</th>\n",
              "      <th>Volume</th>\n",
              "      <th>OpenInt</th>\n",
              "    </tr>\n",
              "  </thead>\n",
              "  <tbody>\n",
              "    <tr>\n",
              "      <th>0</th>\n",
              "      <td>2010-06-28</td>\n",
              "      <td>17.00</td>\n",
              "      <td>17.00</td>\n",
              "      <td>17.00</td>\n",
              "      <td>17.00</td>\n",
              "      <td>0</td>\n",
              "      <td>0</td>\n",
              "    </tr>\n",
              "    <tr>\n",
              "      <th>1</th>\n",
              "      <td>2010-06-29</td>\n",
              "      <td>19.00</td>\n",
              "      <td>25.00</td>\n",
              "      <td>17.54</td>\n",
              "      <td>23.89</td>\n",
              "      <td>18783276</td>\n",
              "      <td>0</td>\n",
              "    </tr>\n",
              "    <tr>\n",
              "      <th>2</th>\n",
              "      <td>2010-06-30</td>\n",
              "      <td>25.79</td>\n",
              "      <td>30.42</td>\n",
              "      <td>23.30</td>\n",
              "      <td>23.83</td>\n",
              "      <td>17194394</td>\n",
              "      <td>0</td>\n",
              "    </tr>\n",
              "    <tr>\n",
              "      <th>3</th>\n",
              "      <td>2010-07-01</td>\n",
              "      <td>25.00</td>\n",
              "      <td>25.92</td>\n",
              "      <td>20.27</td>\n",
              "      <td>21.96</td>\n",
              "      <td>8229863</td>\n",
              "      <td>0</td>\n",
              "    </tr>\n",
              "    <tr>\n",
              "      <th>4</th>\n",
              "      <td>2010-07-02</td>\n",
              "      <td>23.00</td>\n",
              "      <td>23.10</td>\n",
              "      <td>18.71</td>\n",
              "      <td>19.20</td>\n",
              "      <td>5141807</td>\n",
              "      <td>0</td>\n",
              "    </tr>\n",
              "    <tr>\n",
              "      <th>...</th>\n",
              "      <td>...</td>\n",
              "      <td>...</td>\n",
              "      <td>...</td>\n",
              "      <td>...</td>\n",
              "      <td>...</td>\n",
              "      <td>...</td>\n",
              "      <td>...</td>\n",
              "    </tr>\n",
              "    <tr>\n",
              "      <th>1853</th>\n",
              "      <td>2017-11-06</td>\n",
              "      <td>307.00</td>\n",
              "      <td>307.50</td>\n",
              "      <td>299.01</td>\n",
              "      <td>302.78</td>\n",
              "      <td>6482486</td>\n",
              "      <td>0</td>\n",
              "    </tr>\n",
              "    <tr>\n",
              "      <th>1854</th>\n",
              "      <td>2017-11-07</td>\n",
              "      <td>301.02</td>\n",
              "      <td>306.50</td>\n",
              "      <td>300.03</td>\n",
              "      <td>306.05</td>\n",
              "      <td>5286320</td>\n",
              "      <td>0</td>\n",
              "    </tr>\n",
              "    <tr>\n",
              "      <th>1855</th>\n",
              "      <td>2017-11-08</td>\n",
              "      <td>305.50</td>\n",
              "      <td>306.89</td>\n",
              "      <td>301.30</td>\n",
              "      <td>304.31</td>\n",
              "      <td>4725510</td>\n",
              "      <td>0</td>\n",
              "    </tr>\n",
              "    <tr>\n",
              "      <th>1856</th>\n",
              "      <td>2017-11-09</td>\n",
              "      <td>302.50</td>\n",
              "      <td>304.46</td>\n",
              "      <td>296.30</td>\n",
              "      <td>302.99</td>\n",
              "      <td>5440335</td>\n",
              "      <td>0</td>\n",
              "    </tr>\n",
              "    <tr>\n",
              "      <th>1857</th>\n",
              "      <td>2017-11-10</td>\n",
              "      <td>302.50</td>\n",
              "      <td>308.36</td>\n",
              "      <td>301.85</td>\n",
              "      <td>302.99</td>\n",
              "      <td>4621912</td>\n",
              "      <td>0</td>\n",
              "    </tr>\n",
              "  </tbody>\n",
              "</table>\n",
              "<p>1858 rows × 7 columns</p>\n",
              "</div>\n",
              "      <button class=\"colab-df-convert\" onclick=\"convertToInteractive('df-6c286f4e-545f-4199-8f73-d2c9486b5c74')\"\n",
              "              title=\"Convert this dataframe to an interactive table.\"\n",
              "              style=\"display:none;\">\n",
              "        \n",
              "  <svg xmlns=\"http://www.w3.org/2000/svg\" height=\"24px\"viewBox=\"0 0 24 24\"\n",
              "       width=\"24px\">\n",
              "    <path d=\"M0 0h24v24H0V0z\" fill=\"none\"/>\n",
              "    <path d=\"M18.56 5.44l.94 2.06.94-2.06 2.06-.94-2.06-.94-.94-2.06-.94 2.06-2.06.94zm-11 1L8.5 8.5l.94-2.06 2.06-.94-2.06-.94L8.5 2.5l-.94 2.06-2.06.94zm10 10l.94 2.06.94-2.06 2.06-.94-2.06-.94-.94-2.06-.94 2.06-2.06.94z\"/><path d=\"M17.41 7.96l-1.37-1.37c-.4-.4-.92-.59-1.43-.59-.52 0-1.04.2-1.43.59L10.3 9.45l-7.72 7.72c-.78.78-.78 2.05 0 2.83L4 21.41c.39.39.9.59 1.41.59.51 0 1.02-.2 1.41-.59l7.78-7.78 2.81-2.81c.8-.78.8-2.07 0-2.86zM5.41 20L4 18.59l7.72-7.72 1.47 1.35L5.41 20z\"/>\n",
              "  </svg>\n",
              "      </button>\n",
              "      \n",
              "  <style>\n",
              "    .colab-df-container {\n",
              "      display:flex;\n",
              "      flex-wrap:wrap;\n",
              "      gap: 12px;\n",
              "    }\n",
              "\n",
              "    .colab-df-convert {\n",
              "      background-color: #E8F0FE;\n",
              "      border: none;\n",
              "      border-radius: 50%;\n",
              "      cursor: pointer;\n",
              "      display: none;\n",
              "      fill: #1967D2;\n",
              "      height: 32px;\n",
              "      padding: 0 0 0 0;\n",
              "      width: 32px;\n",
              "    }\n",
              "\n",
              "    .colab-df-convert:hover {\n",
              "      background-color: #E2EBFA;\n",
              "      box-shadow: 0px 1px 2px rgba(60, 64, 67, 0.3), 0px 1px 3px 1px rgba(60, 64, 67, 0.15);\n",
              "      fill: #174EA6;\n",
              "    }\n",
              "\n",
              "    [theme=dark] .colab-df-convert {\n",
              "      background-color: #3B4455;\n",
              "      fill: #D2E3FC;\n",
              "    }\n",
              "\n",
              "    [theme=dark] .colab-df-convert:hover {\n",
              "      background-color: #434B5C;\n",
              "      box-shadow: 0px 1px 3px 1px rgba(0, 0, 0, 0.15);\n",
              "      filter: drop-shadow(0px 1px 2px rgba(0, 0, 0, 0.3));\n",
              "      fill: #FFFFFF;\n",
              "    }\n",
              "  </style>\n",
              "\n",
              "      <script>\n",
              "        const buttonEl =\n",
              "          document.querySelector('#df-6c286f4e-545f-4199-8f73-d2c9486b5c74 button.colab-df-convert');\n",
              "        buttonEl.style.display =\n",
              "          google.colab.kernel.accessAllowed ? 'block' : 'none';\n",
              "\n",
              "        async function convertToInteractive(key) {\n",
              "          const element = document.querySelector('#df-6c286f4e-545f-4199-8f73-d2c9486b5c74');\n",
              "          const dataTable =\n",
              "            await google.colab.kernel.invokeFunction('convertToInteractive',\n",
              "                                                     [key], {});\n",
              "          if (!dataTable) return;\n",
              "\n",
              "          const docLinkHtml = 'Like what you see? Visit the ' +\n",
              "            '<a target=\"_blank\" href=https://colab.research.google.com/notebooks/data_table.ipynb>data table notebook</a>'\n",
              "            + ' to learn more about interactive tables.';\n",
              "          element.innerHTML = '';\n",
              "          dataTable['output_type'] = 'display_data';\n",
              "          await google.colab.output.renderOutput(dataTable, element);\n",
              "          const docLink = document.createElement('div');\n",
              "          docLink.innerHTML = docLinkHtml;\n",
              "          element.appendChild(docLink);\n",
              "        }\n",
              "      </script>\n",
              "    </div>\n",
              "  </div>\n",
              "  "
            ]
          },
          "metadata": {},
          "execution_count": 2
        }
      ]
    },
    {
      "cell_type": "code",
      "source": [
        "df.head()"
      ],
      "metadata": {
        "colab": {
          "base_uri": "https://localhost:8080/",
          "height": 206
        },
        "id": "nphhxX1NyJfI",
        "outputId": "6d4e30da-f7c4-4d82-e217-2cc922cc0acd"
      },
      "execution_count": 3,
      "outputs": [
        {
          "output_type": "execute_result",
          "data": {
            "text/plain": [
              "         Date   Open   High    Low  Close    Volume  OpenInt\n",
              "0  2010-06-28  17.00  17.00  17.00  17.00         0        0\n",
              "1  2010-06-29  19.00  25.00  17.54  23.89  18783276        0\n",
              "2  2010-06-30  25.79  30.42  23.30  23.83  17194394        0\n",
              "3  2010-07-01  25.00  25.92  20.27  21.96   8229863        0\n",
              "4  2010-07-02  23.00  23.10  18.71  19.20   5141807        0"
            ],
            "text/html": [
              "\n",
              "  <div id=\"df-cd4190f3-a22b-46c0-8fce-a69e95b299fc\">\n",
              "    <div class=\"colab-df-container\">\n",
              "      <div>\n",
              "<style scoped>\n",
              "    .dataframe tbody tr th:only-of-type {\n",
              "        vertical-align: middle;\n",
              "    }\n",
              "\n",
              "    .dataframe tbody tr th {\n",
              "        vertical-align: top;\n",
              "    }\n",
              "\n",
              "    .dataframe thead th {\n",
              "        text-align: right;\n",
              "    }\n",
              "</style>\n",
              "<table border=\"1\" class=\"dataframe\">\n",
              "  <thead>\n",
              "    <tr style=\"text-align: right;\">\n",
              "      <th></th>\n",
              "      <th>Date</th>\n",
              "      <th>Open</th>\n",
              "      <th>High</th>\n",
              "      <th>Low</th>\n",
              "      <th>Close</th>\n",
              "      <th>Volume</th>\n",
              "      <th>OpenInt</th>\n",
              "    </tr>\n",
              "  </thead>\n",
              "  <tbody>\n",
              "    <tr>\n",
              "      <th>0</th>\n",
              "      <td>2010-06-28</td>\n",
              "      <td>17.00</td>\n",
              "      <td>17.00</td>\n",
              "      <td>17.00</td>\n",
              "      <td>17.00</td>\n",
              "      <td>0</td>\n",
              "      <td>0</td>\n",
              "    </tr>\n",
              "    <tr>\n",
              "      <th>1</th>\n",
              "      <td>2010-06-29</td>\n",
              "      <td>19.00</td>\n",
              "      <td>25.00</td>\n",
              "      <td>17.54</td>\n",
              "      <td>23.89</td>\n",
              "      <td>18783276</td>\n",
              "      <td>0</td>\n",
              "    </tr>\n",
              "    <tr>\n",
              "      <th>2</th>\n",
              "      <td>2010-06-30</td>\n",
              "      <td>25.79</td>\n",
              "      <td>30.42</td>\n",
              "      <td>23.30</td>\n",
              "      <td>23.83</td>\n",
              "      <td>17194394</td>\n",
              "      <td>0</td>\n",
              "    </tr>\n",
              "    <tr>\n",
              "      <th>3</th>\n",
              "      <td>2010-07-01</td>\n",
              "      <td>25.00</td>\n",
              "      <td>25.92</td>\n",
              "      <td>20.27</td>\n",
              "      <td>21.96</td>\n",
              "      <td>8229863</td>\n",
              "      <td>0</td>\n",
              "    </tr>\n",
              "    <tr>\n",
              "      <th>4</th>\n",
              "      <td>2010-07-02</td>\n",
              "      <td>23.00</td>\n",
              "      <td>23.10</td>\n",
              "      <td>18.71</td>\n",
              "      <td>19.20</td>\n",
              "      <td>5141807</td>\n",
              "      <td>0</td>\n",
              "    </tr>\n",
              "  </tbody>\n",
              "</table>\n",
              "</div>\n",
              "      <button class=\"colab-df-convert\" onclick=\"convertToInteractive('df-cd4190f3-a22b-46c0-8fce-a69e95b299fc')\"\n",
              "              title=\"Convert this dataframe to an interactive table.\"\n",
              "              style=\"display:none;\">\n",
              "        \n",
              "  <svg xmlns=\"http://www.w3.org/2000/svg\" height=\"24px\"viewBox=\"0 0 24 24\"\n",
              "       width=\"24px\">\n",
              "    <path d=\"M0 0h24v24H0V0z\" fill=\"none\"/>\n",
              "    <path d=\"M18.56 5.44l.94 2.06.94-2.06 2.06-.94-2.06-.94-.94-2.06-.94 2.06-2.06.94zm-11 1L8.5 8.5l.94-2.06 2.06-.94-2.06-.94L8.5 2.5l-.94 2.06-2.06.94zm10 10l.94 2.06.94-2.06 2.06-.94-2.06-.94-.94-2.06-.94 2.06-2.06.94z\"/><path d=\"M17.41 7.96l-1.37-1.37c-.4-.4-.92-.59-1.43-.59-.52 0-1.04.2-1.43.59L10.3 9.45l-7.72 7.72c-.78.78-.78 2.05 0 2.83L4 21.41c.39.39.9.59 1.41.59.51 0 1.02-.2 1.41-.59l7.78-7.78 2.81-2.81c.8-.78.8-2.07 0-2.86zM5.41 20L4 18.59l7.72-7.72 1.47 1.35L5.41 20z\"/>\n",
              "  </svg>\n",
              "      </button>\n",
              "      \n",
              "  <style>\n",
              "    .colab-df-container {\n",
              "      display:flex;\n",
              "      flex-wrap:wrap;\n",
              "      gap: 12px;\n",
              "    }\n",
              "\n",
              "    .colab-df-convert {\n",
              "      background-color: #E8F0FE;\n",
              "      border: none;\n",
              "      border-radius: 50%;\n",
              "      cursor: pointer;\n",
              "      display: none;\n",
              "      fill: #1967D2;\n",
              "      height: 32px;\n",
              "      padding: 0 0 0 0;\n",
              "      width: 32px;\n",
              "    }\n",
              "\n",
              "    .colab-df-convert:hover {\n",
              "      background-color: #E2EBFA;\n",
              "      box-shadow: 0px 1px 2px rgba(60, 64, 67, 0.3), 0px 1px 3px 1px rgba(60, 64, 67, 0.15);\n",
              "      fill: #174EA6;\n",
              "    }\n",
              "\n",
              "    [theme=dark] .colab-df-convert {\n",
              "      background-color: #3B4455;\n",
              "      fill: #D2E3FC;\n",
              "    }\n",
              "\n",
              "    [theme=dark] .colab-df-convert:hover {\n",
              "      background-color: #434B5C;\n",
              "      box-shadow: 0px 1px 3px 1px rgba(0, 0, 0, 0.15);\n",
              "      filter: drop-shadow(0px 1px 2px rgba(0, 0, 0, 0.3));\n",
              "      fill: #FFFFFF;\n",
              "    }\n",
              "  </style>\n",
              "\n",
              "      <script>\n",
              "        const buttonEl =\n",
              "          document.querySelector('#df-cd4190f3-a22b-46c0-8fce-a69e95b299fc button.colab-df-convert');\n",
              "        buttonEl.style.display =\n",
              "          google.colab.kernel.accessAllowed ? 'block' : 'none';\n",
              "\n",
              "        async function convertToInteractive(key) {\n",
              "          const element = document.querySelector('#df-cd4190f3-a22b-46c0-8fce-a69e95b299fc');\n",
              "          const dataTable =\n",
              "            await google.colab.kernel.invokeFunction('convertToInteractive',\n",
              "                                                     [key], {});\n",
              "          if (!dataTable) return;\n",
              "\n",
              "          const docLinkHtml = 'Like what you see? Visit the ' +\n",
              "            '<a target=\"_blank\" href=https://colab.research.google.com/notebooks/data_table.ipynb>data table notebook</a>'\n",
              "            + ' to learn more about interactive tables.';\n",
              "          element.innerHTML = '';\n",
              "          dataTable['output_type'] = 'display_data';\n",
              "          await google.colab.output.renderOutput(dataTable, element);\n",
              "          const docLink = document.createElement('div');\n",
              "          docLink.innerHTML = docLinkHtml;\n",
              "          element.appendChild(docLink);\n",
              "        }\n",
              "      </script>\n",
              "    </div>\n",
              "  </div>\n",
              "  "
            ]
          },
          "metadata": {},
          "execution_count": 3
        }
      ]
    },
    {
      "cell_type": "code",
      "source": [
        "df.tail()"
      ],
      "metadata": {
        "colab": {
          "base_uri": "https://localhost:8080/",
          "height": 206
        },
        "id": "beAQDn8xyXMJ",
        "outputId": "0457c477-3fe7-460f-ce61-39f50e714fc1"
      },
      "execution_count": 4,
      "outputs": [
        {
          "output_type": "execute_result",
          "data": {
            "text/plain": [
              "            Date    Open    High     Low   Close   Volume  OpenInt\n",
              "1853  2017-11-06  307.00  307.50  299.01  302.78  6482486        0\n",
              "1854  2017-11-07  301.02  306.50  300.03  306.05  5286320        0\n",
              "1855  2017-11-08  305.50  306.89  301.30  304.31  4725510        0\n",
              "1856  2017-11-09  302.50  304.46  296.30  302.99  5440335        0\n",
              "1857  2017-11-10  302.50  308.36  301.85  302.99  4621912        0"
            ],
            "text/html": [
              "\n",
              "  <div id=\"df-4f9774af-3ba1-44ac-8b9d-6ed4b6183763\">\n",
              "    <div class=\"colab-df-container\">\n",
              "      <div>\n",
              "<style scoped>\n",
              "    .dataframe tbody tr th:only-of-type {\n",
              "        vertical-align: middle;\n",
              "    }\n",
              "\n",
              "    .dataframe tbody tr th {\n",
              "        vertical-align: top;\n",
              "    }\n",
              "\n",
              "    .dataframe thead th {\n",
              "        text-align: right;\n",
              "    }\n",
              "</style>\n",
              "<table border=\"1\" class=\"dataframe\">\n",
              "  <thead>\n",
              "    <tr style=\"text-align: right;\">\n",
              "      <th></th>\n",
              "      <th>Date</th>\n",
              "      <th>Open</th>\n",
              "      <th>High</th>\n",
              "      <th>Low</th>\n",
              "      <th>Close</th>\n",
              "      <th>Volume</th>\n",
              "      <th>OpenInt</th>\n",
              "    </tr>\n",
              "  </thead>\n",
              "  <tbody>\n",
              "    <tr>\n",
              "      <th>1853</th>\n",
              "      <td>2017-11-06</td>\n",
              "      <td>307.00</td>\n",
              "      <td>307.50</td>\n",
              "      <td>299.01</td>\n",
              "      <td>302.78</td>\n",
              "      <td>6482486</td>\n",
              "      <td>0</td>\n",
              "    </tr>\n",
              "    <tr>\n",
              "      <th>1854</th>\n",
              "      <td>2017-11-07</td>\n",
              "      <td>301.02</td>\n",
              "      <td>306.50</td>\n",
              "      <td>300.03</td>\n",
              "      <td>306.05</td>\n",
              "      <td>5286320</td>\n",
              "      <td>0</td>\n",
              "    </tr>\n",
              "    <tr>\n",
              "      <th>1855</th>\n",
              "      <td>2017-11-08</td>\n",
              "      <td>305.50</td>\n",
              "      <td>306.89</td>\n",
              "      <td>301.30</td>\n",
              "      <td>304.31</td>\n",
              "      <td>4725510</td>\n",
              "      <td>0</td>\n",
              "    </tr>\n",
              "    <tr>\n",
              "      <th>1856</th>\n",
              "      <td>2017-11-09</td>\n",
              "      <td>302.50</td>\n",
              "      <td>304.46</td>\n",
              "      <td>296.30</td>\n",
              "      <td>302.99</td>\n",
              "      <td>5440335</td>\n",
              "      <td>0</td>\n",
              "    </tr>\n",
              "    <tr>\n",
              "      <th>1857</th>\n",
              "      <td>2017-11-10</td>\n",
              "      <td>302.50</td>\n",
              "      <td>308.36</td>\n",
              "      <td>301.85</td>\n",
              "      <td>302.99</td>\n",
              "      <td>4621912</td>\n",
              "      <td>0</td>\n",
              "    </tr>\n",
              "  </tbody>\n",
              "</table>\n",
              "</div>\n",
              "      <button class=\"colab-df-convert\" onclick=\"convertToInteractive('df-4f9774af-3ba1-44ac-8b9d-6ed4b6183763')\"\n",
              "              title=\"Convert this dataframe to an interactive table.\"\n",
              "              style=\"display:none;\">\n",
              "        \n",
              "  <svg xmlns=\"http://www.w3.org/2000/svg\" height=\"24px\"viewBox=\"0 0 24 24\"\n",
              "       width=\"24px\">\n",
              "    <path d=\"M0 0h24v24H0V0z\" fill=\"none\"/>\n",
              "    <path d=\"M18.56 5.44l.94 2.06.94-2.06 2.06-.94-2.06-.94-.94-2.06-.94 2.06-2.06.94zm-11 1L8.5 8.5l.94-2.06 2.06-.94-2.06-.94L8.5 2.5l-.94 2.06-2.06.94zm10 10l.94 2.06.94-2.06 2.06-.94-2.06-.94-.94-2.06-.94 2.06-2.06.94z\"/><path d=\"M17.41 7.96l-1.37-1.37c-.4-.4-.92-.59-1.43-.59-.52 0-1.04.2-1.43.59L10.3 9.45l-7.72 7.72c-.78.78-.78 2.05 0 2.83L4 21.41c.39.39.9.59 1.41.59.51 0 1.02-.2 1.41-.59l7.78-7.78 2.81-2.81c.8-.78.8-2.07 0-2.86zM5.41 20L4 18.59l7.72-7.72 1.47 1.35L5.41 20z\"/>\n",
              "  </svg>\n",
              "      </button>\n",
              "      \n",
              "  <style>\n",
              "    .colab-df-container {\n",
              "      display:flex;\n",
              "      flex-wrap:wrap;\n",
              "      gap: 12px;\n",
              "    }\n",
              "\n",
              "    .colab-df-convert {\n",
              "      background-color: #E8F0FE;\n",
              "      border: none;\n",
              "      border-radius: 50%;\n",
              "      cursor: pointer;\n",
              "      display: none;\n",
              "      fill: #1967D2;\n",
              "      height: 32px;\n",
              "      padding: 0 0 0 0;\n",
              "      width: 32px;\n",
              "    }\n",
              "\n",
              "    .colab-df-convert:hover {\n",
              "      background-color: #E2EBFA;\n",
              "      box-shadow: 0px 1px 2px rgba(60, 64, 67, 0.3), 0px 1px 3px 1px rgba(60, 64, 67, 0.15);\n",
              "      fill: #174EA6;\n",
              "    }\n",
              "\n",
              "    [theme=dark] .colab-df-convert {\n",
              "      background-color: #3B4455;\n",
              "      fill: #D2E3FC;\n",
              "    }\n",
              "\n",
              "    [theme=dark] .colab-df-convert:hover {\n",
              "      background-color: #434B5C;\n",
              "      box-shadow: 0px 1px 3px 1px rgba(0, 0, 0, 0.15);\n",
              "      filter: drop-shadow(0px 1px 2px rgba(0, 0, 0, 0.3));\n",
              "      fill: #FFFFFF;\n",
              "    }\n",
              "  </style>\n",
              "\n",
              "      <script>\n",
              "        const buttonEl =\n",
              "          document.querySelector('#df-4f9774af-3ba1-44ac-8b9d-6ed4b6183763 button.colab-df-convert');\n",
              "        buttonEl.style.display =\n",
              "          google.colab.kernel.accessAllowed ? 'block' : 'none';\n",
              "\n",
              "        async function convertToInteractive(key) {\n",
              "          const element = document.querySelector('#df-4f9774af-3ba1-44ac-8b9d-6ed4b6183763');\n",
              "          const dataTable =\n",
              "            await google.colab.kernel.invokeFunction('convertToInteractive',\n",
              "                                                     [key], {});\n",
              "          if (!dataTable) return;\n",
              "\n",
              "          const docLinkHtml = 'Like what you see? Visit the ' +\n",
              "            '<a target=\"_blank\" href=https://colab.research.google.com/notebooks/data_table.ipynb>data table notebook</a>'\n",
              "            + ' to learn more about interactive tables.';\n",
              "          element.innerHTML = '';\n",
              "          dataTable['output_type'] = 'display_data';\n",
              "          await google.colab.output.renderOutput(dataTable, element);\n",
              "          const docLink = document.createElement('div');\n",
              "          docLink.innerHTML = docLinkHtml;\n",
              "          element.appendChild(docLink);\n",
              "        }\n",
              "      </script>\n",
              "    </div>\n",
              "  </div>\n",
              "  "
            ]
          },
          "metadata": {},
          "execution_count": 4
        }
      ]
    },
    {
      "cell_type": "code",
      "source": [
        "def check_df(dataframe, head=5):\n",
        "  \n",
        "    print(dataframe.shape)\n",
        "\n",
        "   \n",
        "    print(dataframe.dtypes)\n",
        "\n",
        "   \n",
        "    print(dataframe.head(head))\n",
        "\n",
        "   \n",
        "    print(dataframe.tail(head))\n",
        "\n",
        "   \n",
        "    print(dataframe.isnull().sum())\n",
        "\n",
        "   \n",
        "    print(dataframe.quantile([0, 0.05, 0.50, 0.95, 0.99, 1]).T)"
      ],
      "metadata": {
        "id": "6EOR7aswybnh"
      },
      "execution_count": 5,
      "outputs": []
    },
    {
      "cell_type": "code",
      "source": [
        "check_df(df)"
      ],
      "metadata": {
        "colab": {
          "base_uri": "https://localhost:8080/"
        },
        "id": "Xy-saH7Pyglg",
        "outputId": "e27c984f-2a2e-4ca8-a093-3b95fbd874e0"
      },
      "execution_count": 6,
      "outputs": [
        {
          "output_type": "stream",
          "name": "stdout",
          "text": [
            "(1858, 7)\n",
            "Date        object\n",
            "Open       float64\n",
            "High       float64\n",
            "Low        float64\n",
            "Close      float64\n",
            "Volume       int64\n",
            "OpenInt      int64\n",
            "dtype: object\n",
            "         Date   Open   High    Low  Close    Volume  OpenInt\n",
            "0  2010-06-28  17.00  17.00  17.00  17.00         0        0\n",
            "1  2010-06-29  19.00  25.00  17.54  23.89  18783276        0\n",
            "2  2010-06-30  25.79  30.42  23.30  23.83  17194394        0\n",
            "3  2010-07-01  25.00  25.92  20.27  21.96   8229863        0\n",
            "4  2010-07-02  23.00  23.10  18.71  19.20   5141807        0\n",
            "            Date    Open    High     Low   Close   Volume  OpenInt\n",
            "1853  2017-11-06  307.00  307.50  299.01  302.78  6482486        0\n",
            "1854  2017-11-07  301.02  306.50  300.03  306.05  5286320        0\n",
            "1855  2017-11-08  305.50  306.89  301.30  304.31  4725510        0\n",
            "1856  2017-11-09  302.50  304.46  296.30  302.99  5440335        0\n",
            "1857  2017-11-10  302.50  308.36  301.85  302.99  4621912        0\n",
            "Date       0\n",
            "Open       0\n",
            "High       0\n",
            "Low        0\n",
            "Close      0\n",
            "Volume     0\n",
            "OpenInt    0\n",
            "dtype: int64\n",
            "          0.00        0.05        0.50          0.95          0.99  \\\n",
            "Open     16.14      22.177      184.44  3.295575e+02  3.670842e+02   \n",
            "High     16.63      23.000      188.66  3.320488e+02  3.718088e+02   \n",
            "Low       8.03      21.500      181.45  3.232701e+02  3.622350e+02   \n",
            "Close    15.80      22.207      184.85  3.278490e+02  3.656543e+02   \n",
            "Volume    0.00  569400.300  3421025.50  1.205163e+07  2.226238e+07   \n",
            "OpenInt   0.00       0.000        0.00  0.000000e+00  0.000000e+00   \n",
            "\n",
            "                 1.00  \n",
            "Open     3.866900e+02  \n",
            "High     3.896100e+02  \n",
            "Low      3.793450e+02  \n",
            "Close    3.850000e+02  \n",
            "Volume   3.714989e+07  \n",
            "OpenInt  0.000000e+00  \n"
          ]
        }
      ]
    },
    {
      "cell_type": "code",
      "source": [
        "df[\"Date\"]=pd.to_datetime(df[\"Date\"])"
      ],
      "metadata": {
        "id": "HqqZnsJwygnc"
      },
      "execution_count": 7,
      "outputs": []
    },
    {
      "cell_type": "code",
      "source": [
        "df.head()"
      ],
      "metadata": {
        "colab": {
          "base_uri": "https://localhost:8080/",
          "height": 206
        },
        "id": "XGA68fMNygqA",
        "outputId": "1f3a64fc-4167-4b1f-e081-20515efcae71"
      },
      "execution_count": 8,
      "outputs": [
        {
          "output_type": "execute_result",
          "data": {
            "text/plain": [
              "        Date   Open   High    Low  Close    Volume  OpenInt\n",
              "0 2010-06-28  17.00  17.00  17.00  17.00         0        0\n",
              "1 2010-06-29  19.00  25.00  17.54  23.89  18783276        0\n",
              "2 2010-06-30  25.79  30.42  23.30  23.83  17194394        0\n",
              "3 2010-07-01  25.00  25.92  20.27  21.96   8229863        0\n",
              "4 2010-07-02  23.00  23.10  18.71  19.20   5141807        0"
            ],
            "text/html": [
              "\n",
              "  <div id=\"df-69914921-dd04-420b-a8fd-01a893320f38\">\n",
              "    <div class=\"colab-df-container\">\n",
              "      <div>\n",
              "<style scoped>\n",
              "    .dataframe tbody tr th:only-of-type {\n",
              "        vertical-align: middle;\n",
              "    }\n",
              "\n",
              "    .dataframe tbody tr th {\n",
              "        vertical-align: top;\n",
              "    }\n",
              "\n",
              "    .dataframe thead th {\n",
              "        text-align: right;\n",
              "    }\n",
              "</style>\n",
              "<table border=\"1\" class=\"dataframe\">\n",
              "  <thead>\n",
              "    <tr style=\"text-align: right;\">\n",
              "      <th></th>\n",
              "      <th>Date</th>\n",
              "      <th>Open</th>\n",
              "      <th>High</th>\n",
              "      <th>Low</th>\n",
              "      <th>Close</th>\n",
              "      <th>Volume</th>\n",
              "      <th>OpenInt</th>\n",
              "    </tr>\n",
              "  </thead>\n",
              "  <tbody>\n",
              "    <tr>\n",
              "      <th>0</th>\n",
              "      <td>2010-06-28</td>\n",
              "      <td>17.00</td>\n",
              "      <td>17.00</td>\n",
              "      <td>17.00</td>\n",
              "      <td>17.00</td>\n",
              "      <td>0</td>\n",
              "      <td>0</td>\n",
              "    </tr>\n",
              "    <tr>\n",
              "      <th>1</th>\n",
              "      <td>2010-06-29</td>\n",
              "      <td>19.00</td>\n",
              "      <td>25.00</td>\n",
              "      <td>17.54</td>\n",
              "      <td>23.89</td>\n",
              "      <td>18783276</td>\n",
              "      <td>0</td>\n",
              "    </tr>\n",
              "    <tr>\n",
              "      <th>2</th>\n",
              "      <td>2010-06-30</td>\n",
              "      <td>25.79</td>\n",
              "      <td>30.42</td>\n",
              "      <td>23.30</td>\n",
              "      <td>23.83</td>\n",
              "      <td>17194394</td>\n",
              "      <td>0</td>\n",
              "    </tr>\n",
              "    <tr>\n",
              "      <th>3</th>\n",
              "      <td>2010-07-01</td>\n",
              "      <td>25.00</td>\n",
              "      <td>25.92</td>\n",
              "      <td>20.27</td>\n",
              "      <td>21.96</td>\n",
              "      <td>8229863</td>\n",
              "      <td>0</td>\n",
              "    </tr>\n",
              "    <tr>\n",
              "      <th>4</th>\n",
              "      <td>2010-07-02</td>\n",
              "      <td>23.00</td>\n",
              "      <td>23.10</td>\n",
              "      <td>18.71</td>\n",
              "      <td>19.20</td>\n",
              "      <td>5141807</td>\n",
              "      <td>0</td>\n",
              "    </tr>\n",
              "  </tbody>\n",
              "</table>\n",
              "</div>\n",
              "      <button class=\"colab-df-convert\" onclick=\"convertToInteractive('df-69914921-dd04-420b-a8fd-01a893320f38')\"\n",
              "              title=\"Convert this dataframe to an interactive table.\"\n",
              "              style=\"display:none;\">\n",
              "        \n",
              "  <svg xmlns=\"http://www.w3.org/2000/svg\" height=\"24px\"viewBox=\"0 0 24 24\"\n",
              "       width=\"24px\">\n",
              "    <path d=\"M0 0h24v24H0V0z\" fill=\"none\"/>\n",
              "    <path d=\"M18.56 5.44l.94 2.06.94-2.06 2.06-.94-2.06-.94-.94-2.06-.94 2.06-2.06.94zm-11 1L8.5 8.5l.94-2.06 2.06-.94-2.06-.94L8.5 2.5l-.94 2.06-2.06.94zm10 10l.94 2.06.94-2.06 2.06-.94-2.06-.94-.94-2.06-.94 2.06-2.06.94z\"/><path d=\"M17.41 7.96l-1.37-1.37c-.4-.4-.92-.59-1.43-.59-.52 0-1.04.2-1.43.59L10.3 9.45l-7.72 7.72c-.78.78-.78 2.05 0 2.83L4 21.41c.39.39.9.59 1.41.59.51 0 1.02-.2 1.41-.59l7.78-7.78 2.81-2.81c.8-.78.8-2.07 0-2.86zM5.41 20L4 18.59l7.72-7.72 1.47 1.35L5.41 20z\"/>\n",
              "  </svg>\n",
              "      </button>\n",
              "      \n",
              "  <style>\n",
              "    .colab-df-container {\n",
              "      display:flex;\n",
              "      flex-wrap:wrap;\n",
              "      gap: 12px;\n",
              "    }\n",
              "\n",
              "    .colab-df-convert {\n",
              "      background-color: #E8F0FE;\n",
              "      border: none;\n",
              "      border-radius: 50%;\n",
              "      cursor: pointer;\n",
              "      display: none;\n",
              "      fill: #1967D2;\n",
              "      height: 32px;\n",
              "      padding: 0 0 0 0;\n",
              "      width: 32px;\n",
              "    }\n",
              "\n",
              "    .colab-df-convert:hover {\n",
              "      background-color: #E2EBFA;\n",
              "      box-shadow: 0px 1px 2px rgba(60, 64, 67, 0.3), 0px 1px 3px 1px rgba(60, 64, 67, 0.15);\n",
              "      fill: #174EA6;\n",
              "    }\n",
              "\n",
              "    [theme=dark] .colab-df-convert {\n",
              "      background-color: #3B4455;\n",
              "      fill: #D2E3FC;\n",
              "    }\n",
              "\n",
              "    [theme=dark] .colab-df-convert:hover {\n",
              "      background-color: #434B5C;\n",
              "      box-shadow: 0px 1px 3px 1px rgba(0, 0, 0, 0.15);\n",
              "      filter: drop-shadow(0px 1px 2px rgba(0, 0, 0, 0.3));\n",
              "      fill: #FFFFFF;\n",
              "    }\n",
              "  </style>\n",
              "\n",
              "      <script>\n",
              "        const buttonEl =\n",
              "          document.querySelector('#df-69914921-dd04-420b-a8fd-01a893320f38 button.colab-df-convert');\n",
              "        buttonEl.style.display =\n",
              "          google.colab.kernel.accessAllowed ? 'block' : 'none';\n",
              "\n",
              "        async function convertToInteractive(key) {\n",
              "          const element = document.querySelector('#df-69914921-dd04-420b-a8fd-01a893320f38');\n",
              "          const dataTable =\n",
              "            await google.colab.kernel.invokeFunction('convertToInteractive',\n",
              "                                                     [key], {});\n",
              "          if (!dataTable) return;\n",
              "\n",
              "          const docLinkHtml = 'Like what you see? Visit the ' +\n",
              "            '<a target=\"_blank\" href=https://colab.research.google.com/notebooks/data_table.ipynb>data table notebook</a>'\n",
              "            + ' to learn more about interactive tables.';\n",
              "          element.innerHTML = '';\n",
              "          dataTable['output_type'] = 'display_data';\n",
              "          await google.colab.output.renderOutput(dataTable, element);\n",
              "          const docLink = document.createElement('div');\n",
              "          docLink.innerHTML = docLinkHtml;\n",
              "          element.appendChild(docLink);\n",
              "        }\n",
              "      </script>\n",
              "    </div>\n",
              "  </div>\n",
              "  "
            ]
          },
          "metadata": {},
          "execution_count": 8
        }
      ]
    },
    {
      "cell_type": "code",
      "source": [
        "Stock_df= df[[\"Date\",\"Close\"]]"
      ],
      "metadata": {
        "id": "zaNPCQMpygtf"
      },
      "execution_count": 9,
      "outputs": []
    },
    {
      "cell_type": "code",
      "source": [
        "Stock_df.head()"
      ],
      "metadata": {
        "colab": {
          "base_uri": "https://localhost:8080/",
          "height": 206
        },
        "id": "ra1s-bl7yvle",
        "outputId": "7cfe4f70-8a45-47ea-e254-a8212bcd512a"
      },
      "execution_count": 10,
      "outputs": [
        {
          "output_type": "execute_result",
          "data": {
            "text/plain": [
              "        Date  Close\n",
              "0 2010-06-28  17.00\n",
              "1 2010-06-29  23.89\n",
              "2 2010-06-30  23.83\n",
              "3 2010-07-01  21.96\n",
              "4 2010-07-02  19.20"
            ],
            "text/html": [
              "\n",
              "  <div id=\"df-47e91754-2e8c-4b2d-a518-fb0e1d288a54\">\n",
              "    <div class=\"colab-df-container\">\n",
              "      <div>\n",
              "<style scoped>\n",
              "    .dataframe tbody tr th:only-of-type {\n",
              "        vertical-align: middle;\n",
              "    }\n",
              "\n",
              "    .dataframe tbody tr th {\n",
              "        vertical-align: top;\n",
              "    }\n",
              "\n",
              "    .dataframe thead th {\n",
              "        text-align: right;\n",
              "    }\n",
              "</style>\n",
              "<table border=\"1\" class=\"dataframe\">\n",
              "  <thead>\n",
              "    <tr style=\"text-align: right;\">\n",
              "      <th></th>\n",
              "      <th>Date</th>\n",
              "      <th>Close</th>\n",
              "    </tr>\n",
              "  </thead>\n",
              "  <tbody>\n",
              "    <tr>\n",
              "      <th>0</th>\n",
              "      <td>2010-06-28</td>\n",
              "      <td>17.00</td>\n",
              "    </tr>\n",
              "    <tr>\n",
              "      <th>1</th>\n",
              "      <td>2010-06-29</td>\n",
              "      <td>23.89</td>\n",
              "    </tr>\n",
              "    <tr>\n",
              "      <th>2</th>\n",
              "      <td>2010-06-30</td>\n",
              "      <td>23.83</td>\n",
              "    </tr>\n",
              "    <tr>\n",
              "      <th>3</th>\n",
              "      <td>2010-07-01</td>\n",
              "      <td>21.96</td>\n",
              "    </tr>\n",
              "    <tr>\n",
              "      <th>4</th>\n",
              "      <td>2010-07-02</td>\n",
              "      <td>19.20</td>\n",
              "    </tr>\n",
              "  </tbody>\n",
              "</table>\n",
              "</div>\n",
              "      <button class=\"colab-df-convert\" onclick=\"convertToInteractive('df-47e91754-2e8c-4b2d-a518-fb0e1d288a54')\"\n",
              "              title=\"Convert this dataframe to an interactive table.\"\n",
              "              style=\"display:none;\">\n",
              "        \n",
              "  <svg xmlns=\"http://www.w3.org/2000/svg\" height=\"24px\"viewBox=\"0 0 24 24\"\n",
              "       width=\"24px\">\n",
              "    <path d=\"M0 0h24v24H0V0z\" fill=\"none\"/>\n",
              "    <path d=\"M18.56 5.44l.94 2.06.94-2.06 2.06-.94-2.06-.94-.94-2.06-.94 2.06-2.06.94zm-11 1L8.5 8.5l.94-2.06 2.06-.94-2.06-.94L8.5 2.5l-.94 2.06-2.06.94zm10 10l.94 2.06.94-2.06 2.06-.94-2.06-.94-.94-2.06-.94 2.06-2.06.94z\"/><path d=\"M17.41 7.96l-1.37-1.37c-.4-.4-.92-.59-1.43-.59-.52 0-1.04.2-1.43.59L10.3 9.45l-7.72 7.72c-.78.78-.78 2.05 0 2.83L4 21.41c.39.39.9.59 1.41.59.51 0 1.02-.2 1.41-.59l7.78-7.78 2.81-2.81c.8-.78.8-2.07 0-2.86zM5.41 20L4 18.59l7.72-7.72 1.47 1.35L5.41 20z\"/>\n",
              "  </svg>\n",
              "      </button>\n",
              "      \n",
              "  <style>\n",
              "    .colab-df-container {\n",
              "      display:flex;\n",
              "      flex-wrap:wrap;\n",
              "      gap: 12px;\n",
              "    }\n",
              "\n",
              "    .colab-df-convert {\n",
              "      background-color: #E8F0FE;\n",
              "      border: none;\n",
              "      border-radius: 50%;\n",
              "      cursor: pointer;\n",
              "      display: none;\n",
              "      fill: #1967D2;\n",
              "      height: 32px;\n",
              "      padding: 0 0 0 0;\n",
              "      width: 32px;\n",
              "    }\n",
              "\n",
              "    .colab-df-convert:hover {\n",
              "      background-color: #E2EBFA;\n",
              "      box-shadow: 0px 1px 2px rgba(60, 64, 67, 0.3), 0px 1px 3px 1px rgba(60, 64, 67, 0.15);\n",
              "      fill: #174EA6;\n",
              "    }\n",
              "\n",
              "    [theme=dark] .colab-df-convert {\n",
              "      background-color: #3B4455;\n",
              "      fill: #D2E3FC;\n",
              "    }\n",
              "\n",
              "    [theme=dark] .colab-df-convert:hover {\n",
              "      background-color: #434B5C;\n",
              "      box-shadow: 0px 1px 3px 1px rgba(0, 0, 0, 0.15);\n",
              "      filter: drop-shadow(0px 1px 2px rgba(0, 0, 0, 0.3));\n",
              "      fill: #FFFFFF;\n",
              "    }\n",
              "  </style>\n",
              "\n",
              "      <script>\n",
              "        const buttonEl =\n",
              "          document.querySelector('#df-47e91754-2e8c-4b2d-a518-fb0e1d288a54 button.colab-df-convert');\n",
              "        buttonEl.style.display =\n",
              "          google.colab.kernel.accessAllowed ? 'block' : 'none';\n",
              "\n",
              "        async function convertToInteractive(key) {\n",
              "          const element = document.querySelector('#df-47e91754-2e8c-4b2d-a518-fb0e1d288a54');\n",
              "          const dataTable =\n",
              "            await google.colab.kernel.invokeFunction('convertToInteractive',\n",
              "                                                     [key], {});\n",
              "          if (!dataTable) return;\n",
              "\n",
              "          const docLinkHtml = 'Like what you see? Visit the ' +\n",
              "            '<a target=\"_blank\" href=https://colab.research.google.com/notebooks/data_table.ipynb>data table notebook</a>'\n",
              "            + ' to learn more about interactive tables.';\n",
              "          element.innerHTML = '';\n",
              "          dataTable['output_type'] = 'display_data';\n",
              "          await google.colab.output.renderOutput(dataTable, element);\n",
              "          const docLink = document.createElement('div');\n",
              "          docLink.innerHTML = docLinkHtml;\n",
              "          element.appendChild(docLink);\n",
              "        }\n",
              "      </script>\n",
              "    </div>\n",
              "  </div>\n",
              "  "
            ]
          },
          "metadata": {},
          "execution_count": 10
        }
      ]
    },
    {
      "cell_type": "code",
      "source": [
        "print(\"Min. Date:\",Stock_df[\"Date\"].min())\n",
        "print(\"Max. Date:\",Stock_df[\"Date\"].max())"
      ],
      "metadata": {
        "colab": {
          "base_uri": "https://localhost:8080/"
        },
        "id": "okbt_9Vuyvnc",
        "outputId": "3d7d91fc-c136-4f79-af6e-f1d6766b261a"
      },
      "execution_count": 11,
      "outputs": [
        {
          "output_type": "stream",
          "name": "stdout",
          "text": [
            "Min. Date: 2010-06-28 00:00:00\n",
            "Max. Date: 2017-11-10 00:00:00\n"
          ]
        }
      ]
    },
    {
      "cell_type": "code",
      "source": [
        "Stock_df.index=Stock_df[\"Date\"]"
      ],
      "metadata": {
        "id": "CQsYmHxHyvqN"
      },
      "execution_count": 12,
      "outputs": []
    },
    {
      "cell_type": "code",
      "source": [
        "Stock_df"
      ],
      "metadata": {
        "colab": {
          "base_uri": "https://localhost:8080/",
          "height": 455
        },
        "id": "121Oe2K0yvsf",
        "outputId": "1f8add11-addb-4152-badb-17f2894eb462"
      },
      "execution_count": 13,
      "outputs": [
        {
          "output_type": "execute_result",
          "data": {
            "text/plain": [
              "                 Date   Close\n",
              "Date                         \n",
              "2010-06-28 2010-06-28   17.00\n",
              "2010-06-29 2010-06-29   23.89\n",
              "2010-06-30 2010-06-30   23.83\n",
              "2010-07-01 2010-07-01   21.96\n",
              "2010-07-02 2010-07-02   19.20\n",
              "...               ...     ...\n",
              "2017-11-06 2017-11-06  302.78\n",
              "2017-11-07 2017-11-07  306.05\n",
              "2017-11-08 2017-11-08  304.31\n",
              "2017-11-09 2017-11-09  302.99\n",
              "2017-11-10 2017-11-10  302.99\n",
              "\n",
              "[1858 rows x 2 columns]"
            ],
            "text/html": [
              "\n",
              "  <div id=\"df-c73cb8ea-2d56-4f23-b923-4c7573b73352\">\n",
              "    <div class=\"colab-df-container\">\n",
              "      <div>\n",
              "<style scoped>\n",
              "    .dataframe tbody tr th:only-of-type {\n",
              "        vertical-align: middle;\n",
              "    }\n",
              "\n",
              "    .dataframe tbody tr th {\n",
              "        vertical-align: top;\n",
              "    }\n",
              "\n",
              "    .dataframe thead th {\n",
              "        text-align: right;\n",
              "    }\n",
              "</style>\n",
              "<table border=\"1\" class=\"dataframe\">\n",
              "  <thead>\n",
              "    <tr style=\"text-align: right;\">\n",
              "      <th></th>\n",
              "      <th>Date</th>\n",
              "      <th>Close</th>\n",
              "    </tr>\n",
              "    <tr>\n",
              "      <th>Date</th>\n",
              "      <th></th>\n",
              "      <th></th>\n",
              "    </tr>\n",
              "  </thead>\n",
              "  <tbody>\n",
              "    <tr>\n",
              "      <th>2010-06-28</th>\n",
              "      <td>2010-06-28</td>\n",
              "      <td>17.00</td>\n",
              "    </tr>\n",
              "    <tr>\n",
              "      <th>2010-06-29</th>\n",
              "      <td>2010-06-29</td>\n",
              "      <td>23.89</td>\n",
              "    </tr>\n",
              "    <tr>\n",
              "      <th>2010-06-30</th>\n",
              "      <td>2010-06-30</td>\n",
              "      <td>23.83</td>\n",
              "    </tr>\n",
              "    <tr>\n",
              "      <th>2010-07-01</th>\n",
              "      <td>2010-07-01</td>\n",
              "      <td>21.96</td>\n",
              "    </tr>\n",
              "    <tr>\n",
              "      <th>2010-07-02</th>\n",
              "      <td>2010-07-02</td>\n",
              "      <td>19.20</td>\n",
              "    </tr>\n",
              "    <tr>\n",
              "      <th>...</th>\n",
              "      <td>...</td>\n",
              "      <td>...</td>\n",
              "    </tr>\n",
              "    <tr>\n",
              "      <th>2017-11-06</th>\n",
              "      <td>2017-11-06</td>\n",
              "      <td>302.78</td>\n",
              "    </tr>\n",
              "    <tr>\n",
              "      <th>2017-11-07</th>\n",
              "      <td>2017-11-07</td>\n",
              "      <td>306.05</td>\n",
              "    </tr>\n",
              "    <tr>\n",
              "      <th>2017-11-08</th>\n",
              "      <td>2017-11-08</td>\n",
              "      <td>304.31</td>\n",
              "    </tr>\n",
              "    <tr>\n",
              "      <th>2017-11-09</th>\n",
              "      <td>2017-11-09</td>\n",
              "      <td>302.99</td>\n",
              "    </tr>\n",
              "    <tr>\n",
              "      <th>2017-11-10</th>\n",
              "      <td>2017-11-10</td>\n",
              "      <td>302.99</td>\n",
              "    </tr>\n",
              "  </tbody>\n",
              "</table>\n",
              "<p>1858 rows × 2 columns</p>\n",
              "</div>\n",
              "      <button class=\"colab-df-convert\" onclick=\"convertToInteractive('df-c73cb8ea-2d56-4f23-b923-4c7573b73352')\"\n",
              "              title=\"Convert this dataframe to an interactive table.\"\n",
              "              style=\"display:none;\">\n",
              "        \n",
              "  <svg xmlns=\"http://www.w3.org/2000/svg\" height=\"24px\"viewBox=\"0 0 24 24\"\n",
              "       width=\"24px\">\n",
              "    <path d=\"M0 0h24v24H0V0z\" fill=\"none\"/>\n",
              "    <path d=\"M18.56 5.44l.94 2.06.94-2.06 2.06-.94-2.06-.94-.94-2.06-.94 2.06-2.06.94zm-11 1L8.5 8.5l.94-2.06 2.06-.94-2.06-.94L8.5 2.5l-.94 2.06-2.06.94zm10 10l.94 2.06.94-2.06 2.06-.94-2.06-.94-.94-2.06-.94 2.06-2.06.94z\"/><path d=\"M17.41 7.96l-1.37-1.37c-.4-.4-.92-.59-1.43-.59-.52 0-1.04.2-1.43.59L10.3 9.45l-7.72 7.72c-.78.78-.78 2.05 0 2.83L4 21.41c.39.39.9.59 1.41.59.51 0 1.02-.2 1.41-.59l7.78-7.78 2.81-2.81c.8-.78.8-2.07 0-2.86zM5.41 20L4 18.59l7.72-7.72 1.47 1.35L5.41 20z\"/>\n",
              "  </svg>\n",
              "      </button>\n",
              "      \n",
              "  <style>\n",
              "    .colab-df-container {\n",
              "      display:flex;\n",
              "      flex-wrap:wrap;\n",
              "      gap: 12px;\n",
              "    }\n",
              "\n",
              "    .colab-df-convert {\n",
              "      background-color: #E8F0FE;\n",
              "      border: none;\n",
              "      border-radius: 50%;\n",
              "      cursor: pointer;\n",
              "      display: none;\n",
              "      fill: #1967D2;\n",
              "      height: 32px;\n",
              "      padding: 0 0 0 0;\n",
              "      width: 32px;\n",
              "    }\n",
              "\n",
              "    .colab-df-convert:hover {\n",
              "      background-color: #E2EBFA;\n",
              "      box-shadow: 0px 1px 2px rgba(60, 64, 67, 0.3), 0px 1px 3px 1px rgba(60, 64, 67, 0.15);\n",
              "      fill: #174EA6;\n",
              "    }\n",
              "\n",
              "    [theme=dark] .colab-df-convert {\n",
              "      background-color: #3B4455;\n",
              "      fill: #D2E3FC;\n",
              "    }\n",
              "\n",
              "    [theme=dark] .colab-df-convert:hover {\n",
              "      background-color: #434B5C;\n",
              "      box-shadow: 0px 1px 3px 1px rgba(0, 0, 0, 0.15);\n",
              "      filter: drop-shadow(0px 1px 2px rgba(0, 0, 0, 0.3));\n",
              "      fill: #FFFFFF;\n",
              "    }\n",
              "  </style>\n",
              "\n",
              "      <script>\n",
              "        const buttonEl =\n",
              "          document.querySelector('#df-c73cb8ea-2d56-4f23-b923-4c7573b73352 button.colab-df-convert');\n",
              "        buttonEl.style.display =\n",
              "          google.colab.kernel.accessAllowed ? 'block' : 'none';\n",
              "\n",
              "        async function convertToInteractive(key) {\n",
              "          const element = document.querySelector('#df-c73cb8ea-2d56-4f23-b923-4c7573b73352');\n",
              "          const dataTable =\n",
              "            await google.colab.kernel.invokeFunction('convertToInteractive',\n",
              "                                                     [key], {});\n",
              "          if (!dataTable) return;\n",
              "\n",
              "          const docLinkHtml = 'Like what you see? Visit the ' +\n",
              "            '<a target=\"_blank\" href=https://colab.research.google.com/notebooks/data_table.ipynb>data table notebook</a>'\n",
              "            + ' to learn more about interactive tables.';\n",
              "          element.innerHTML = '';\n",
              "          dataTable['output_type'] = 'display_data';\n",
              "          await google.colab.output.renderOutput(dataTable, element);\n",
              "          const docLink = document.createElement('div');\n",
              "          docLink.innerHTML = docLinkHtml;\n",
              "          element.appendChild(docLink);\n",
              "        }\n",
              "      </script>\n",
              "    </div>\n",
              "  </div>\n",
              "  "
            ]
          },
          "metadata": {},
          "execution_count": 13
        }
      ]
    },
    {
      "cell_type": "code",
      "source": [
        "Stock_df.drop(\"Date\",axis=1,inplace=True)"
      ],
      "metadata": {
        "id": "7zuVMVUWyvwB"
      },
      "execution_count": 14,
      "outputs": []
    },
    {
      "cell_type": "code",
      "source": [
        "Stock_df"
      ],
      "metadata": {
        "colab": {
          "base_uri": "https://localhost:8080/",
          "height": 455
        },
        "id": "i61mdDTvzE0C",
        "outputId": "23013d2a-20ea-43b9-fa65-6e5c261ad081"
      },
      "execution_count": 15,
      "outputs": [
        {
          "output_type": "execute_result",
          "data": {
            "text/plain": [
              "             Close\n",
              "Date              \n",
              "2010-06-28   17.00\n",
              "2010-06-29   23.89\n",
              "2010-06-30   23.83\n",
              "2010-07-01   21.96\n",
              "2010-07-02   19.20\n",
              "...            ...\n",
              "2017-11-06  302.78\n",
              "2017-11-07  306.05\n",
              "2017-11-08  304.31\n",
              "2017-11-09  302.99\n",
              "2017-11-10  302.99\n",
              "\n",
              "[1858 rows x 1 columns]"
            ],
            "text/html": [
              "\n",
              "  <div id=\"df-db47ed5b-be1d-415a-961a-dedad24b1a8c\">\n",
              "    <div class=\"colab-df-container\">\n",
              "      <div>\n",
              "<style scoped>\n",
              "    .dataframe tbody tr th:only-of-type {\n",
              "        vertical-align: middle;\n",
              "    }\n",
              "\n",
              "    .dataframe tbody tr th {\n",
              "        vertical-align: top;\n",
              "    }\n",
              "\n",
              "    .dataframe thead th {\n",
              "        text-align: right;\n",
              "    }\n",
              "</style>\n",
              "<table border=\"1\" class=\"dataframe\">\n",
              "  <thead>\n",
              "    <tr style=\"text-align: right;\">\n",
              "      <th></th>\n",
              "      <th>Close</th>\n",
              "    </tr>\n",
              "    <tr>\n",
              "      <th>Date</th>\n",
              "      <th></th>\n",
              "    </tr>\n",
              "  </thead>\n",
              "  <tbody>\n",
              "    <tr>\n",
              "      <th>2010-06-28</th>\n",
              "      <td>17.00</td>\n",
              "    </tr>\n",
              "    <tr>\n",
              "      <th>2010-06-29</th>\n",
              "      <td>23.89</td>\n",
              "    </tr>\n",
              "    <tr>\n",
              "      <th>2010-06-30</th>\n",
              "      <td>23.83</td>\n",
              "    </tr>\n",
              "    <tr>\n",
              "      <th>2010-07-01</th>\n",
              "      <td>21.96</td>\n",
              "    </tr>\n",
              "    <tr>\n",
              "      <th>2010-07-02</th>\n",
              "      <td>19.20</td>\n",
              "    </tr>\n",
              "    <tr>\n",
              "      <th>...</th>\n",
              "      <td>...</td>\n",
              "    </tr>\n",
              "    <tr>\n",
              "      <th>2017-11-06</th>\n",
              "      <td>302.78</td>\n",
              "    </tr>\n",
              "    <tr>\n",
              "      <th>2017-11-07</th>\n",
              "      <td>306.05</td>\n",
              "    </tr>\n",
              "    <tr>\n",
              "      <th>2017-11-08</th>\n",
              "      <td>304.31</td>\n",
              "    </tr>\n",
              "    <tr>\n",
              "      <th>2017-11-09</th>\n",
              "      <td>302.99</td>\n",
              "    </tr>\n",
              "    <tr>\n",
              "      <th>2017-11-10</th>\n",
              "      <td>302.99</td>\n",
              "    </tr>\n",
              "  </tbody>\n",
              "</table>\n",
              "<p>1858 rows × 1 columns</p>\n",
              "</div>\n",
              "      <button class=\"colab-df-convert\" onclick=\"convertToInteractive('df-db47ed5b-be1d-415a-961a-dedad24b1a8c')\"\n",
              "              title=\"Convert this dataframe to an interactive table.\"\n",
              "              style=\"display:none;\">\n",
              "        \n",
              "  <svg xmlns=\"http://www.w3.org/2000/svg\" height=\"24px\"viewBox=\"0 0 24 24\"\n",
              "       width=\"24px\">\n",
              "    <path d=\"M0 0h24v24H0V0z\" fill=\"none\"/>\n",
              "    <path d=\"M18.56 5.44l.94 2.06.94-2.06 2.06-.94-2.06-.94-.94-2.06-.94 2.06-2.06.94zm-11 1L8.5 8.5l.94-2.06 2.06-.94-2.06-.94L8.5 2.5l-.94 2.06-2.06.94zm10 10l.94 2.06.94-2.06 2.06-.94-2.06-.94-.94-2.06-.94 2.06-2.06.94z\"/><path d=\"M17.41 7.96l-1.37-1.37c-.4-.4-.92-.59-1.43-.59-.52 0-1.04.2-1.43.59L10.3 9.45l-7.72 7.72c-.78.78-.78 2.05 0 2.83L4 21.41c.39.39.9.59 1.41.59.51 0 1.02-.2 1.41-.59l7.78-7.78 2.81-2.81c.8-.78.8-2.07 0-2.86zM5.41 20L4 18.59l7.72-7.72 1.47 1.35L5.41 20z\"/>\n",
              "  </svg>\n",
              "      </button>\n",
              "      \n",
              "  <style>\n",
              "    .colab-df-container {\n",
              "      display:flex;\n",
              "      flex-wrap:wrap;\n",
              "      gap: 12px;\n",
              "    }\n",
              "\n",
              "    .colab-df-convert {\n",
              "      background-color: #E8F0FE;\n",
              "      border: none;\n",
              "      border-radius: 50%;\n",
              "      cursor: pointer;\n",
              "      display: none;\n",
              "      fill: #1967D2;\n",
              "      height: 32px;\n",
              "      padding: 0 0 0 0;\n",
              "      width: 32px;\n",
              "    }\n",
              "\n",
              "    .colab-df-convert:hover {\n",
              "      background-color: #E2EBFA;\n",
              "      box-shadow: 0px 1px 2px rgba(60, 64, 67, 0.3), 0px 1px 3px 1px rgba(60, 64, 67, 0.15);\n",
              "      fill: #174EA6;\n",
              "    }\n",
              "\n",
              "    [theme=dark] .colab-df-convert {\n",
              "      background-color: #3B4455;\n",
              "      fill: #D2E3FC;\n",
              "    }\n",
              "\n",
              "    [theme=dark] .colab-df-convert:hover {\n",
              "      background-color: #434B5C;\n",
              "      box-shadow: 0px 1px 3px 1px rgba(0, 0, 0, 0.15);\n",
              "      filter: drop-shadow(0px 1px 2px rgba(0, 0, 0, 0.3));\n",
              "      fill: #FFFFFF;\n",
              "    }\n",
              "  </style>\n",
              "\n",
              "      <script>\n",
              "        const buttonEl =\n",
              "          document.querySelector('#df-db47ed5b-be1d-415a-961a-dedad24b1a8c button.colab-df-convert');\n",
              "        buttonEl.style.display =\n",
              "          google.colab.kernel.accessAllowed ? 'block' : 'none';\n",
              "\n",
              "        async function convertToInteractive(key) {\n",
              "          const element = document.querySelector('#df-db47ed5b-be1d-415a-961a-dedad24b1a8c');\n",
              "          const dataTable =\n",
              "            await google.colab.kernel.invokeFunction('convertToInteractive',\n",
              "                                                     [key], {});\n",
              "          if (!dataTable) return;\n",
              "\n",
              "          const docLinkHtml = 'Like what you see? Visit the ' +\n",
              "            '<a target=\"_blank\" href=https://colab.research.google.com/notebooks/data_table.ipynb>data table notebook</a>'\n",
              "            + ' to learn more about interactive tables.';\n",
              "          element.innerHTML = '';\n",
              "          dataTable['output_type'] = 'display_data';\n",
              "          await google.colab.output.renderOutput(dataTable, element);\n",
              "          const docLink = document.createElement('div');\n",
              "          docLink.innerHTML = docLinkHtml;\n",
              "          element.appendChild(docLink);\n",
              "        }\n",
              "      </script>\n",
              "    </div>\n",
              "  </div>\n",
              "  "
            ]
          },
          "metadata": {},
          "execution_count": 15
        }
      ]
    },
    {
      "cell_type": "code",
      "source": [
        "result_df=Stock_df.copy()"
      ],
      "metadata": {
        "id": "0eUKKFE1zE2w"
      },
      "execution_count": 16,
      "outputs": []
    },
    {
      "cell_type": "code",
      "source": [
        "plt.figure(figsize=(12,6))\n",
        "plt.plot(Stock_df[\"Close\"],color=\"blue\");\n",
        "plt.ylabel(\"Stock Price\")\n",
        "plt.title(\"Tesla Stock Market Price\")\n",
        "plt.xlabel(\"Time\")\n",
        "plt.show()"
      ],
      "metadata": {
        "colab": {
          "base_uri": "https://localhost:8080/",
          "height": 404
        },
        "id": "tIiR-XbazE5K",
        "outputId": "d844d2de-3deb-4c69-9587-abb942d7b381"
      },
      "execution_count": 17,
      "outputs": [
        {
          "output_type": "display_data",
          "data": {
            "text/plain": [
              "<Figure size 864x432 with 1 Axes>"
            ],
            "image/png": "[encoded data removed]"
          },
          "metadata": {
            "needs_background": "light"
          }
        }
      ]
    },
    {
      "cell_type": "code",
      "source": [
        "Stock_df=Stock_df.values"
      ],
      "metadata": {
        "id": "HlgSkcgPzE7r"
      },
      "execution_count": 18,
      "outputs": []
    },
    {
      "cell_type": "code",
      "source": [
        "Stock_df[0:5]"
      ],
      "metadata": {
        "colab": {
          "base_uri": "https://localhost:8080/"
        },
        "id": "vehokGg7zE_K",
        "outputId": "824b3b62-0227-4d7b-f4a3-592ed151b7d3"
      },
      "execution_count": 19,
      "outputs": [
        {
          "output_type": "execute_result",
          "data": {
            "text/plain": [
              "array([[17.  ],\n",
              "       [23.89],\n",
              "       [23.83],\n",
              "       [21.96],\n",
              "       [19.2 ]])"
            ]
          },
          "metadata": {},
          "execution_count": 19
        }
      ]
    },
    {
      "cell_type": "code",
      "source": [
        "Stock_df=Stock_df.astype(\"float32\")"
      ],
      "metadata": {
        "id": "mCkzZmmjzFHS"
      },
      "execution_count": 20,
      "outputs": []
    },
    {
      "cell_type": "code",
      "source": [
        "def split_data(dataframe,test_size):\n",
        "    pos=int(round(len(dataframe)*(1-test_size)))\n",
        "    train=dataframe[:pos]\n",
        "    test=dataframe[pos:]\n",
        "    return train,test,pos"
      ],
      "metadata": {
        "id": "7RyzI9AczYMt"
      },
      "execution_count": 21,
      "outputs": []
    },
    {
      "cell_type": "code",
      "source": [
        "train,test,pos=split_data(Stock_df,0.20)"
      ],
      "metadata": {
        "id": "BXVhJ1YMzYSD"
      },
      "execution_count": 22,
      "outputs": []
    },
    {
      "cell_type": "code",
      "source": [
        "print(train.shape,test.shape)"
      ],
      "metadata": {
        "colab": {
          "base_uri": "https://localhost:8080/"
        },
        "id": "80l3k67YzYUA",
        "outputId": "462d56ab-16aa-45a0-aa37-2307e3a20759"
      },
      "execution_count": 23,
      "outputs": [
        {
          "output_type": "stream",
          "name": "stdout",
          "text": [
            "(1486, 1) (372, 1)\n"
          ]
        }
      ]
    },
    {
      "cell_type": "code",
      "source": [
        "scaler_train=MinMaxScaler(feature_range=(0,1))"
      ],
      "metadata": {
        "id": "EU4iIklOzYWv"
      },
      "execution_count": 24,
      "outputs": []
    },
    {
      "cell_type": "code",
      "source": [
        "train=scaler_train.fit_transform(train)"
      ],
      "metadata": {
        "id": "5h2Nv-R0zYaU"
      },
      "execution_count": 25,
      "outputs": []
    },
    {
      "cell_type": "code",
      "source": [
        "scaler_test=MinMaxScaler(feature_range=(0,1))"
      ],
      "metadata": {
        "id": "pGfTlZPlznLc"
      },
      "execution_count": 26,
      "outputs": []
    },
    {
      "cell_type": "code",
      "source": [
        "test=scaler_test.fit_transform(test)"
      ],
      "metadata": {
        "id": "Bp7BeMA_znNe"
      },
      "execution_count": 27,
      "outputs": []
    },
    {
      "cell_type": "code",
      "source": [
        "train[0:5]"
      ],
      "metadata": {
        "colab": {
          "base_uri": "https://localhost:8080/"
        },
        "id": "52tYlMLkznRD",
        "outputId": "c04e2859-9bd9-46d6-c2d0-ba5f2500bc03"
      },
      "execution_count": 28,
      "outputs": [
        {
          "output_type": "execute_result",
          "data": {
            "text/plain": [
              "array([[0.00444049],\n",
              "       [0.02993634],\n",
              "       [0.02971432],\n",
              "       [0.02279454],\n",
              "       [0.01258141]], dtype=float32)"
            ]
          },
          "metadata": {},
          "execution_count": 28
        }
      ]
    },
    {
      "cell_type": "code",
      "source": [
        "test[0:5]"
      ],
      "metadata": {
        "colab": {
          "base_uri": "https://localhost:8080/"
        },
        "id": "j1tQEHSgzng1",
        "outputId": "63b34fa2-e7ef-4b84-e1e4-45e66d4582a0"
      },
      "execution_count": 29,
      "outputs": [
        {
          "output_type": "execute_result",
          "data": {
            "text/plain": [
              "array([[0.17912066],\n",
              "       [0.187325  ],\n",
              "       [0.21454191],\n",
              "       [0.20432329],\n",
              "       [0.2052567 ]], dtype=float32)"
            ]
          },
          "metadata": {},
          "execution_count": 29
        }
      ]
    },
    {
      "cell_type": "code",
      "source": [
        "def create_features(data,lookback):\n",
        "    X,Y=[],[]\n",
        "    for i in range(lookback,len(data)):\n",
        "        X.append(data[i-lookback:i,0])\n",
        "        Y.append(data[i,0])\n",
        "    return np.array(X),np.array(Y)"
      ],
      "metadata": {
        "id": "gDBmORkPzxUE"
      },
      "execution_count": 30,
      "outputs": []
    },
    {
      "cell_type": "code",
      "source": [
        "lookback=30"
      ],
      "metadata": {
        "id": "y2M9gFJuzxWV"
      },
      "execution_count": 31,
      "outputs": []
    },
    {
      "cell_type": "code",
      "source": [
        "X_train,y_train=create_features(train,lookback)"
      ],
      "metadata": {
        "id": "ln_Rdz6NzxYk"
      },
      "execution_count": 32,
      "outputs": []
    },
    {
      "cell_type": "code",
      "source": [
        "X_test,y_test=create_features(test,lookback)"
      ],
      "metadata": {
        "id": "57hmraEYzxba"
      },
      "execution_count": 33,
      "outputs": []
    },
    {
      "cell_type": "code",
      "source": [
        "print(X_train.shape,y_train.shape,X_test.shape,y_test.shape)"
      ],
      "metadata": {
        "colab": {
          "base_uri": "https://localhost:8080/"
        },
        "id": "cHu_ds9yzxdw",
        "outputId": "79fc99c1-bf1b-4707-f146-ae7c349df53d"
      },
      "execution_count": 34,
      "outputs": [
        {
          "output_type": "stream",
          "name": "stdout",
          "text": [
            "(1456, 30) (1456,) (342, 30) (342,)\n"
          ]
        }
      ]
    },
    {
      "cell_type": "code",
      "source": [
        "X_train[0:5]"
      ],
      "metadata": {
        "colab": {
          "base_uri": "https://localhost:8080/"
        },
        "id": "Q8C8zAPEzxgR",
        "outputId": "d0d3f9b5-c57e-403e-d0fa-013dae7daced"
      },
      "execution_count": 35,
      "outputs": [
        {
          "output_type": "execute_result",
          "data": {
            "text/plain": [
              "array([[0.00444049, 0.02993634, 0.02971432, 0.02279454, 0.01258141,\n",
              "        0.00114713, 0.        , 0.00614268, 0.00592066, 0.00462551,\n",
              "        0.00865897, 0.01494967, 0.01513469, 0.01791   , 0.02260953,\n",
              "        0.01665186, 0.01635583, 0.01924215, 0.02031527, 0.01905713,\n",
              "        0.01757696, 0.01820603, 0.01683688, 0.01531971, 0.01894612,\n",
              "        0.02275755, 0.02020426, 0.01720693, 0.01402457, 0.01406157],\n",
              "       [0.02993634, 0.02971432, 0.02279454, 0.01258141, 0.00114713,\n",
              "        0.        , 0.00614268, 0.00592066, 0.00462551, 0.00865897,\n",
              "        0.01494967, 0.01513469, 0.01791   , 0.02260953, 0.01665186,\n",
              "        0.01635583, 0.01924215, 0.02031527, 0.01905713, 0.01757696,\n",
              "        0.01820603, 0.01683688, 0.01531971, 0.01894612, 0.02275755,\n",
              "        0.02020426, 0.01720693, 0.01402457, 0.01406157, 0.01195234],\n",
              "       [0.02971432, 0.02279454, 0.01258141, 0.00114713, 0.        ,\n",
              "        0.00614268, 0.00592066, 0.00462551, 0.00865897, 0.01494967,\n",
              "        0.01513469, 0.01791   , 0.02260953, 0.01665186, 0.01635583,\n",
              "        0.01924215, 0.02031527, 0.01905713, 0.01757696, 0.01820603,\n",
              "        0.01683688, 0.01531971, 0.01894612, 0.02275755, 0.02020426,\n",
              "        0.01720693, 0.01402457, 0.01406157, 0.01195234, 0.00777087],\n",
              "       [0.02279454, 0.01258141, 0.00114713, 0.        , 0.00614268,\n",
              "        0.00592066, 0.00462551, 0.00865897, 0.01494967, 0.01513469,\n",
              "        0.01791   , 0.02260953, 0.01665186, 0.01635583, 0.01924215,\n",
              "        0.02031527, 0.01905713, 0.01757696, 0.01820603, 0.01683688,\n",
              "        0.01531971, 0.01894612, 0.02275755, 0.02020426, 0.01720693,\n",
              "        0.01402457, 0.01406157, 0.01195234, 0.00777087, 0.00666074],\n",
              "       [0.01258141, 0.00114713, 0.        , 0.00614268, 0.00592066,\n",
              "        0.00462551, 0.00865897, 0.01494967, 0.01513469, 0.01791   ,\n",
              "        0.02260953, 0.01665186, 0.01635583, 0.01924215, 0.02031527,\n",
              "        0.01905713, 0.01757696, 0.01820603, 0.01683688, 0.01531971,\n",
              "        0.01894612, 0.02275755, 0.02020426, 0.01720693, 0.01402457,\n",
              "        0.01406157, 0.01195234, 0.00777087, 0.00666074, 0.00932504]],\n",
              "      dtype=float32)"
            ]
          },
          "metadata": {},
          "execution_count": 35
        }
      ]
    },
    {
      "cell_type": "code",
      "source": [
        "y_test[0:5]"
      ],
      "metadata": {
        "colab": {
          "base_uri": "https://localhost:8080/"
        },
        "id": "GDNzHQhIzxjr",
        "outputId": "8c9d4ab1-6d4a-403d-93b7-4650d714ae79"
      },
      "execution_count": 36,
      "outputs": [
        {
          "output_type": "execute_result",
          "data": {
            "text/plain": [
              "array([0.16944242, 0.1735692 , 0.21287155, 0.21223283, 0.20181775],\n",
              "      dtype=float32)"
            ]
          },
          "metadata": {},
          "execution_count": 36
        }
      ]
    },
    {
      "cell_type": "code",
      "source": [
        "X_train=np.reshape(X_train,(X_train.shape[0],1,X_train.shape[1]))"
      ],
      "metadata": {
        "id": "YCoCLPuZ0NIF"
      },
      "execution_count": 37,
      "outputs": []
    },
    {
      "cell_type": "code",
      "source": [
        "X_test=np.reshape(X_test,(X_test.shape[0],1,X_test.shape[1]))"
      ],
      "metadata": {
        "id": "0VOx-5g40NKk"
      },
      "execution_count": 38,
      "outputs": []
    },
    {
      "cell_type": "code",
      "source": [
        "y_train=y_train.reshape(-1,1)"
      ],
      "metadata": {
        "id": "u8cAyfRK0NM2"
      },
      "execution_count": 39,
      "outputs": []
    },
    {
      "cell_type": "code",
      "source": [
        "y_test=y_test.reshape(-1,1)"
      ],
      "metadata": {
        "id": "hRtBRPWl0NO5"
      },
      "execution_count": 40,
      "outputs": []
    },
    {
      "cell_type": "code",
      "source": [
        "print(X_train.shape,y_train.shape,X_test.shape,y_test.shape)"
      ],
      "metadata": {
        "colab": {
          "base_uri": "https://localhost:8080/"
        },
        "id": "ygcpR3ib0NRP",
        "outputId": "964d3c83-3d85-4aab-dbbd-9f60037cf90f"
      },
      "execution_count": 41,
      "outputs": [
        {
          "output_type": "stream",
          "name": "stdout",
          "text": [
            "(1456, 1, 30) (1456, 1) (342, 1, 30) (342, 1)\n"
          ]
        }
      ]
    },
    {
      "cell_type": "code",
      "source": [
        "def ANN(m):\n",
        "    from keras.models import Sequential\n",
        "    from keras.layers import Dense\n",
        "   \n",
        "    model.add(Dense(11,activation='relu',input_dim=30))\n",
        "    model.add(Dense(1,activation='sigmoid'))\n",
        "\n",
        "    model.compile(loss='binary_crossentropy',optimizer='adam',metrics=['accuracy'])\n",
        "    model.fit(X_train,y_train,epochs=3)"
      ],
      "metadata": {
        "id": "iTR752IJ0NTX"
      },
      "execution_count": 42,
      "outputs": []
    },
    {
      "cell_type": "code",
      "source": [
        "pip install /lib-0.1.0-py3-none-any.whl"
      ],
      "metadata": {
        "colab": {
          "base_uri": "https://localhost:8080/"
        },
        "id": "9HPm3pML1_R5",
        "outputId": "1cc0c5b9-7d42-43d4-ab24-94f4512bc94d"
      },
      "execution_count": 43,
      "outputs": [
        {
          "output_type": "stream",
          "name": "stdout",
          "text": [
            "Looking in indexes: https://pypi.org/simple, https://us-python.pkg.dev/colab-wheels/public/simple/\n",
            "Processing /lib-0.1.0-py3-none-any.whl\n",
            "lib is already installed with the same version as the provided wheel. Use --force-reinstall to force an installation of the wheel.\n"
          ]
        }
      ]
    },
    {
      "cell_type": "code",
      "source": [
        "from lib.utils import *\n",
        "ac=[]\n",
        "\n",
        "model=ANN(X_train)"
      ],
      "metadata": {
        "id": "ODbEidWQ0NVi"
      },
      "execution_count": 44,
      "outputs": []
    },
    {
      "cell_type": "code",
      "source": [
        "model.compile(loss=\"mean_squared_error\",optimizer=\"adam\")\n"
      ],
      "metadata": {
        "id": "y0GeX1M80NX-"
      },
      "execution_count": 45,
      "outputs": []
    },
    {
      "cell_type": "markdown",
      "source": [],
      "metadata": {
        "id": "rPCBfHxj1ptm"
      }
    },
    {
      "cell_type": "code",
      "source": [
        "callbacks=[EarlyStopping(monitor=\"val_loss\",patience=3,verbose=1,mode=\"min\"),\n",
        "          ModelCheckpoint(filepath=\"mymodel.h5\",monitor=\"val_loss\",mode=\"min\",\n",
        "                         save_best_only=True,save_weights_only=False,verbose=1)]"
      ],
      "metadata": {
        "id": "WVx9Z1wu0NaC"
      },
      "execution_count": 46,
      "outputs": []
    },
    {
      "cell_type": "code",
      "source": [
        "history = model.fit(x=X_train,\n",
        "                    y=y_train,\n",
        "                    epochs=200,\n",
        "                    batch_size=30,\n",
        "                    validation_data=(X_test,y_test),\n",
        "                    callbacks=callbacks,\n",
        "                    shuffle=False)\n",
        "ac.append(accuracy_score(model,y_test,sample_weight=0.2)*100)"
      ],
      "metadata": {
        "colab": {
          "base_uri": "https://localhost:8080/"
        },
        "id": "wPrCjA6c0Ndh",
        "outputId": "ec8826ff-c84d-4e56-e461-fdb1285c0594"
      },
      "execution_count": 47,
      "outputs": [
        {
          "output_type": "stream",
          "name": "stdout",
          "text": [
            "Epoch 1/200\n",
            "42/49 [========================>.....] - ETA: 0s - loss: 0.0080\n",
            "Epoch 1: val_loss improved from inf to 0.00988, saving model to mymodel.h5\n",
            "49/49 [==============================] - 2s 11ms/step - loss: 0.0089 - val_loss: 0.0099\n",
            "Epoch 2/200\n",
            "45/49 [==========================>...] - ETA: 0s - loss: 0.0052\n",
            "Epoch 2: val_loss improved from 0.00988 to 0.00890, saving model to mymodel.h5\n",
            "49/49 [==============================] - 0s 9ms/step - loss: 0.0059 - val_loss: 0.0089\n",
            "Epoch 3/200\n",
            "43/49 [=========================>....] - ETA: 0s - loss: 0.0053\n",
            "Epoch 3: val_loss improved from 0.00890 to 0.00752, saving model to mymodel.h5\n",
            "49/49 [==============================] - 0s 6ms/step - loss: 0.0058 - val_loss: 0.0075\n",
            "Epoch 4/200\n",
            "46/49 [===========================>..] - ETA: 0s - loss: 0.0042\n",
            "Epoch 4: val_loss improved from 0.00752 to 0.00722, saving model to mymodel.h5\n",
            "49/49 [==============================] - 0s 5ms/step - loss: 0.0047 - val_loss: 0.0072\n",
            "Epoch 5/200\n",
            "39/49 [======================>.......] - ETA: 0s - loss: 0.0036\n",
            "Epoch 5: val_loss improved from 0.00722 to 0.00628, saving model to mymodel.h5\n",
            "49/49 [==============================] - 0s 5ms/step - loss: 0.0046 - val_loss: 0.0063\n",
            "Epoch 6/200\n",
            "39/49 [======================>.......] - ETA: 0s - loss: 0.0036    \n",
            "Epoch 6: val_loss improved from 0.00628 to 0.00599, saving model to mymodel.h5\n",
            "49/49 [==============================] - 0s 5ms/step - loss: 0.0045 - val_loss: 0.0060\n",
            "Epoch 7/200\n",
            "41/49 [========================>.....] - ETA: 0s - loss: 0.0034    \n",
            "Epoch 7: val_loss improved from 0.00599 to 0.00536, saving model to mymodel.h5\n",
            "49/49 [==============================] - 0s 6ms/step - loss: 0.0040 - val_loss: 0.0054\n",
            "Epoch 8/200\n",
            "37/49 [=====================>........] - ETA: 0s - loss: 0.0026    \n",
            "Epoch 8: val_loss improved from 0.00536 to 0.00500, saving model to mymodel.h5\n",
            "49/49 [==============================] - 0s 6ms/step - loss: 0.0037 - val_loss: 0.0050\n",
            "Epoch 9/200\n",
            "42/49 [========================>.....] - ETA: 0s - loss: 0.0027    \n",
            "Epoch 9: val_loss improved from 0.00500 to 0.00497, saving model to mymodel.h5\n",
            "49/49 [==============================] - 0s 6ms/step - loss: 0.0033 - val_loss: 0.0050\n",
            "Epoch 10/200\n",
            "49/49 [==============================] - ETA: 0s - loss: 0.0037\n",
            "Epoch 10: val_loss improved from 0.00497 to 0.00463, saving model to mymodel.h5\n",
            "49/49 [==============================] - 0s 6ms/step - loss: 0.0037 - val_loss: 0.0046\n",
            "Epoch 11/200\n",
            "41/49 [========================>.....] - ETA: 0s - loss: 0.0027    \n",
            "Epoch 11: val_loss improved from 0.00463 to 0.00453, saving model to mymodel.h5\n",
            "49/49 [==============================] - 0s 5ms/step - loss: 0.0034 - val_loss: 0.0045\n",
            "Epoch 12/200\n",
            "45/49 [==========================>...] - ETA: 0s - loss: 0.0029\n",
            "Epoch 12: val_loss improved from 0.00453 to 0.00424, saving model to mymodel.h5\n",
            "49/49 [==============================] - 1s 10ms/step - loss: 0.0032 - val_loss: 0.0042\n",
            "Epoch 13/200\n",
            "43/49 [=========================>....] - ETA: 0s - loss: 0.0028\n",
            "Epoch 13: val_loss improved from 0.00424 to 0.00421, saving model to mymodel.h5\n",
            "49/49 [==============================] - 1s 10ms/step - loss: 0.0030 - val_loss: 0.0042\n",
            "Epoch 14/200\n",
            "47/49 [===========================>..] - ETA: 0s - loss: 0.0027\n",
            "Epoch 14: val_loss did not improve from 0.00421\n",
            "49/49 [==============================] - 1s 10ms/step - loss: 0.0028 - val_loss: 0.0047\n",
            "Epoch 15/200\n",
            "48/49 [============================>.] - ETA: 0s - loss: 0.0026\n",
            "Epoch 15: val_loss improved from 0.00421 to 0.00396, saving model to mymodel.h5\n",
            "49/49 [==============================] - 1s 15ms/step - loss: 0.0026 - val_loss: 0.0040\n",
            "Epoch 16/200\n",
            "47/49 [===========================>..] - ETA: 0s - loss: 0.0030\n",
            "Epoch 16: val_loss did not improve from 0.00396\n",
            "49/49 [==============================] - 1s 15ms/step - loss: 0.0031 - val_loss: 0.0040\n",
            "Epoch 17/200\n",
            "43/49 [=========================>....] - ETA: 0s - loss: 0.0027\n",
            "Epoch 17: val_loss improved from 0.00396 to 0.00387, saving model to mymodel.h5\n",
            "49/49 [==============================] - 1s 14ms/step - loss: 0.0029 - val_loss: 0.0039\n",
            "Epoch 18/200\n",
            "48/49 [============================>.] - ETA: 0s - loss: 0.0028\n",
            "Epoch 18: val_loss improved from 0.00387 to 0.00384, saving model to mymodel.h5\n",
            "49/49 [==============================] - 1s 13ms/step - loss: 0.0028 - val_loss: 0.0038\n",
            "Epoch 19/200\n",
            "49/49 [==============================] - ETA: 0s - loss: 0.0028\n",
            "Epoch 19: val_loss improved from 0.00384 to 0.00379, saving model to mymodel.h5\n",
            "49/49 [==============================] - 1s 13ms/step - loss: 0.0028 - val_loss: 0.0038\n",
            "Epoch 20/200\n",
            "46/49 [===========================>..] - ETA: 0s - loss: 0.0028\n",
            "Epoch 20: val_loss did not improve from 0.00379\n",
            "49/49 [==============================] - 0s 9ms/step - loss: 0.0029 - val_loss: 0.0038\n",
            "Epoch 21/200\n",
            "47/49 [===========================>..] - ETA: 0s - loss: 0.0026\n",
            "Epoch 21: val_loss improved from 0.00379 to 0.00377, saving model to mymodel.h5\n",
            "49/49 [==============================] - 1s 11ms/step - loss: 0.0027 - val_loss: 0.0038\n",
            "Epoch 22/200\n",
            "43/49 [=========================>....] - ETA: 0s - loss: 0.0024\n",
            "Epoch 22: val_loss improved from 0.00377 to 0.00366, saving model to mymodel.h5\n",
            "49/49 [==============================] - 0s 9ms/step - loss: 0.0026 - val_loss: 0.0037\n",
            "Epoch 23/200\n",
            "42/49 [========================>.....] - ETA: 0s - loss: 0.0023\n",
            "Epoch 23: val_loss improved from 0.00366 to 0.00360, saving model to mymodel.h5\n",
            "49/49 [==============================] - 1s 11ms/step - loss: 0.0026 - val_loss: 0.0036\n",
            "Epoch 24/200\n",
            "45/49 [==========================>...] - ETA: 0s - loss: 0.0026\n",
            "Epoch 24: val_loss improved from 0.00360 to 0.00355, saving model to mymodel.h5\n",
            "49/49 [==============================] - 0s 9ms/step - loss: 0.0028 - val_loss: 0.0035\n",
            "Epoch 25/200\n",
            "49/49 [==============================] - ETA: 0s - loss: 0.0034\n",
            "Epoch 25: val_loss did not improve from 0.00355\n",
            "49/49 [==============================] - 0s 9ms/step - loss: 0.0034 - val_loss: 0.0043\n",
            "Epoch 26/200\n",
            "46/49 [===========================>..] - ETA: 0s - loss: 0.0031\n",
            "Epoch 26: val_loss did not improve from 0.00355\n",
            "49/49 [==============================] - 1s 10ms/step - loss: 0.0032 - val_loss: 0.0045\n",
            "Epoch 27/200\n",
            "49/49 [==============================] - ETA: 0s - loss: 0.0031\n",
            "Epoch 27: val_loss improved from 0.00355 to 0.00341, saving model to mymodel.h5\n",
            "49/49 [==============================] - 1s 11ms/step - loss: 0.0031 - val_loss: 0.0034\n",
            "Epoch 28/200\n",
            "42/49 [========================>.....] - ETA: 0s - loss: 0.0026\n",
            "Epoch 28: val_loss did not improve from 0.00341\n",
            "49/49 [==============================] - 1s 12ms/step - loss: 0.0030 - val_loss: 0.0034\n",
            "Epoch 29/200\n",
            "45/49 [==========================>...] - ETA: 0s - loss: 0.0036\n",
            "Epoch 29: val_loss did not improve from 0.00341\n",
            "49/49 [==============================] - 0s 9ms/step - loss: 0.0038 - val_loss: 0.0039\n",
            "Epoch 30/200\n",
            "44/49 [=========================>....] - ETA: 0s - loss: 0.0030\n",
            "Epoch 30: val_loss did not improve from 0.00341\n",
            "49/49 [==============================] - 0s 10ms/step - loss: 0.0031 - val_loss: 0.0039\n",
            "Epoch 30: early stopping\n"
          ]
        }
      ]
    },
    {
      "cell_type": "code",
      "source": [
        "loss=model.evaluate(X_test,y_test,batch_size=30)"
      ],
      "metadata": {
        "colab": {
          "base_uri": "https://localhost:8080/"
        },
        "id": "G6R_QB9x58m9",
        "outputId": "aadef0a7-5c9e-4f93-edb7-561aedc0168e"
      },
      "execution_count": 48,
      "outputs": [
        {
          "output_type": "stream",
          "name": "stdout",
          "text": [
            "12/12 [==============================] - 0s 5ms/step - loss: 0.0039\n"
          ]
        }
      ]
    },
    {
      "cell_type": "code",
      "source": [
        "train_predict=model.predict(X_train)\n",
        "test_predict=model.predict(X_test)"
      ],
      "metadata": {
        "colab": {
          "base_uri": "https://localhost:8080/"
        },
        "id": "nPB4hMUH58pI",
        "outputId": "e4ae18d0-b67f-4289-e141-f091722e40ec"
      },
      "execution_count": 49,
      "outputs": [
        {
          "output_type": "stream",
          "name": "stdout",
          "text": [
            "46/46 [==============================] - 1s 5ms/step\n",
            "11/11 [==============================] - 0s 4ms/step\n"
          ]
        }
      ]
    },
    {
      "cell_type": "code",
      "source": [
        "train_predict=scaler_train.inverse_transform(train_predict)\n",
        "test_predict=scaler_test.inverse_transform(test_predict)"
      ],
      "metadata": {
        "id": "Aw4PG8vt58rr"
      },
      "execution_count": 50,
      "outputs": []
    },
    {
      "cell_type": "code",
      "source": [
        "y_train=scaler_train.inverse_transform(y_train)\n",
        "y_test=scaler_test.inverse_transform(y_test)"
      ],
      "metadata": {
        "id": "AKBDNrCn58uE"
      },
      "execution_count": 51,
      "outputs": []
    },
    {
      "cell_type": "code",
      "source": [
        "train_rmse=np.sqrt(mean_squared_error(y_train,train_predict))"
      ],
      "metadata": {
        "id": "pQ7lH9Hw58wm"
      },
      "execution_count": 52,
      "outputs": []
    },
    {
      "cell_type": "code",
      "source": [
        "test_rmse=np.sqrt(mean_squared_error(y_test,test_predict,))"
      ],
      "metadata": {
        "id": "OWebNxHQ58zM"
      },
      "execution_count": 53,
      "outputs": []
    },
    {
      "cell_type": "code",
      "source": [
        "train_prediction_data=result_df[lookback:pos]"
      ],
      "metadata": {
        "id": "A6ev7r77582D"
      },
      "execution_count": 54,
      "outputs": []
    },
    {
      "cell_type": "code",
      "source": [
        "train_prediction_data[\"Predicted\"]=train_predict"
      ],
      "metadata": {
        "id": "oL-ET4Dk585l"
      },
      "execution_count": 55,
      "outputs": []
    },
    {
      "cell_type": "code",
      "source": [
        "test_prediction_data=result_df[pos+lookback:]"
      ],
      "metadata": {
        "id": "IWhwhl-60Nlx"
      },
      "execution_count": 56,
      "outputs": []
    },
    {
      "cell_type": "code",
      "source": [
        "test_prediction_data[\"Predicted\"]=test_predict"
      ],
      "metadata": {
        "id": "eACQUYkN6VIU"
      },
      "execution_count": 57,
      "outputs": []
    },
    {
      "cell_type": "code",
      "source": [
        "print(\"Daily predcition\")\n",
        "test_prediction_data.head()"
      ],
      "metadata": {
        "colab": {
          "base_uri": "https://localhost:8080/",
          "height": 255
        },
        "id": "1MOOZaqS6VKt",
        "outputId": "fabc72a6-0ef6-4091-a079-168541140ce7"
      },
      "execution_count": 58,
      "outputs": [
        {
          "output_type": "stream",
          "name": "stdout",
          "text": [
            "Daily predcition\n"
          ]
        },
        {
          "output_type": "execute_result",
          "data": {
            "text/plain": [
              "             Close   Predicted\n",
              "Date                          \n",
              "2016-07-07  215.94  208.499680\n",
              "2016-07-08  216.78  209.058441\n",
              "2016-07-11  224.78  209.611313\n",
              "2016-07-12  224.65  211.759689\n",
              "2016-07-13  222.53  213.332825"
            ],
            "text/html": [
              "\n",
              "  <div id=\"df-bd654479-4f34-4644-8ddf-56e2594bf3da\">\n",
              "    <div class=\"colab-df-container\">\n",
              "      <div>\n",
              "<style scoped>\n",
              "    .dataframe tbody tr th:only-of-type {\n",
              "        vertical-align: middle;\n",
              "    }\n",
              "\n",
              "    .dataframe tbody tr th {\n",
              "        vertical-align: top;\n",
              "    }\n",
              "\n",
              "    .dataframe thead th {\n",
              "        text-align: right;\n",
              "    }\n",
              "</style>\n",
              "<table border=\"1\" class=\"dataframe\">\n",
              "  <thead>\n",
              "    <tr style=\"text-align: right;\">\n",
              "      <th></th>\n",
              "      <th>Close</th>\n",
              "      <th>Predicted</th>\n",
              "    </tr>\n",
              "    <tr>\n",
              "      <th>Date</th>\n",
              "      <th></th>\n",
              "      <th></th>\n",
              "    </tr>\n",
              "  </thead>\n",
              "  <tbody>\n",
              "    <tr>\n",
              "      <th>2016-07-07</th>\n",
              "      <td>215.94</td>\n",
              "      <td>208.499680</td>\n",
              "    </tr>\n",
              "    <tr>\n",
              "      <th>2016-07-08</th>\n",
              "      <td>216.78</td>\n",
              "      <td>209.058441</td>\n",
              "    </tr>\n",
              "    <tr>\n",
              "      <th>2016-07-11</th>\n",
              "      <td>224.78</td>\n",
              "      <td>209.611313</td>\n",
              "    </tr>\n",
              "    <tr>\n",
              "      <th>2016-07-12</th>\n",
              "      <td>224.65</td>\n",
              "      <td>211.759689</td>\n",
              "    </tr>\n",
              "    <tr>\n",
              "      <th>2016-07-13</th>\n",
              "      <td>222.53</td>\n",
              "      <td>213.332825</td>\n",
              "    </tr>\n",
              "  </tbody>\n",
              "</table>\n",
              "</div>\n",
              "      <button class=\"colab-df-convert\" onclick=\"convertToInteractive('df-bd654479-4f34-4644-8ddf-56e2594bf3da')\"\n",
              "              title=\"Convert this dataframe to an interactive table.\"\n",
              "              style=\"display:none;\">\n",
              "        \n",
              "  <svg xmlns=\"http://www.w3.org/2000/svg\" height=\"24px\"viewBox=\"0 0 24 24\"\n",
              "       width=\"24px\">\n",
              "    <path d=\"M0 0h24v24H0V0z\" fill=\"none\"/>\n",
              "    <path d=\"M18.56 5.44l.94 2.06.94-2.06 2.06-.94-2.06-.94-.94-2.06-.94 2.06-2.06.94zm-11 1L8.5 8.5l.94-2.06 2.06-.94-2.06-.94L8.5 2.5l-.94 2.06-2.06.94zm10 10l.94 2.06.94-2.06 2.06-.94-2.06-.94-.94-2.06-.94 2.06-2.06.94z\"/><path d=\"M17.41 7.96l-1.37-1.37c-.4-.4-.92-.59-1.43-.59-.52 0-1.04.2-1.43.59L10.3 9.45l-7.72 7.72c-.78.78-.78 2.05 0 2.83L4 21.41c.39.39.9.59 1.41.59.51 0 1.02-.2 1.41-.59l7.78-7.78 2.81-2.81c.8-.78.8-2.07 0-2.86zM5.41 20L4 18.59l7.72-7.72 1.47 1.35L5.41 20z\"/>\n",
              "  </svg>\n",
              "      </button>\n",
              "      \n",
              "  <style>\n",
              "    .colab-df-container {\n",
              "      display:flex;\n",
              "      flex-wrap:wrap;\n",
              "      gap: 12px;\n",
              "    }\n",
              "\n",
              "    .colab-df-convert {\n",
              "      background-color: #E8F0FE;\n",
              "      border: none;\n",
              "      border-radius: 50%;\n",
              "      cursor: pointer;\n",
              "      display: none;\n",
              "      fill: #1967D2;\n",
              "      height: 32px;\n",
              "      padding: 0 0 0 0;\n",
              "      width: 32px;\n",
              "    }\n",
              "\n",
              "    .colab-df-convert:hover {\n",
              "      background-color: #E2EBFA;\n",
              "      box-shadow: 0px 1px 2px rgba(60, 64, 67, 0.3), 0px 1px 3px 1px rgba(60, 64, 67, 0.15);\n",
              "      fill: #174EA6;\n",
              "    }\n",
              "\n",
              "    [theme=dark] .colab-df-convert {\n",
              "      background-color: #3B4455;\n",
              "      fill: #D2E3FC;\n",
              "    }\n",
              "\n",
              "    [theme=dark] .colab-df-convert:hover {\n",
              "      background-color: #434B5C;\n",
              "      box-shadow: 0px 1px 3px 1px rgba(0, 0, 0, 0.15);\n",
              "      filter: drop-shadow(0px 1px 2px rgba(0, 0, 0, 0.3));\n",
              "      fill: #FFFFFF;\n",
              "    }\n",
              "  </style>\n",
              "\n",
              "      <script>\n",
              "        const buttonEl =\n",
              "          document.querySelector('#df-bd654479-4f34-4644-8ddf-56e2594bf3da button.colab-df-convert');\n",
              "        buttonEl.style.display =\n",
              "          google.colab.kernel.accessAllowed ? 'block' : 'none';\n",
              "\n",
              "        async function convertToInteractive(key) {\n",
              "          const element = document.querySelector('#df-bd654479-4f34-4644-8ddf-56e2594bf3da');\n",
              "          const dataTable =\n",
              "            await google.colab.kernel.invokeFunction('convertToInteractive',\n",
              "                                                     [key], {});\n",
              "          if (!dataTable) return;\n",
              "\n",
              "          const docLinkHtml = 'Like what you see? Visit the ' +\n",
              "            '<a target=\"_blank\" href=https://colab.research.google.com/notebooks/data_table.ipynb>data table notebook</a>'\n",
              "            + ' to learn more about interactive tables.';\n",
              "          element.innerHTML = '';\n",
              "          dataTable['output_type'] = 'display_data';\n",
              "          await google.colab.output.renderOutput(dataTable, element);\n",
              "          const docLink = document.createElement('div');\n",
              "          docLink.innerHTML = docLinkHtml;\n",
              "          element.appendChild(docLink);\n",
              "        }\n",
              "      </script>\n",
              "    </div>\n",
              "  </div>\n",
              "  "
            ]
          },
          "metadata": {},
          "execution_count": 58
        }
      ]
    },
    {
      "cell_type": "code",
      "source": [
        "plt.figure(figsize=(14,5))\n",
        "plt.plot(result_df,label=\"Real Values\")\n",
        "plt.plot(train_prediction_data[\"Predicted\"],color=\"blue\",label=\"Train Predicted\")\n",
        "plt.plot(test_prediction_data[\"Predicted\"],color=\"red\",label=\"Test Predicted\")\n",
        "plt.title(\"Yearly prediction\")\n",
        "plt.xlabel(\"Time\")\n",
        "plt.ylabel(\"Stock Values\")\n",
        "plt.legend()\n",
        "plt.show()"
      ],
      "metadata": {
        "colab": {
          "base_uri": "https://localhost:8080/",
          "height": 306
        },
        "id": "I0APnv1M6VNQ",
        "outputId": "acbe8176-b956-4e6f-9a6b-38db58c955a2"
      },
      "execution_count": 59,
      "outputs": [
        {
          "output_type": "display_data",
          "data": {
            "text/plain": [
              "<Figure size 1008x360 with 1 Axes>"
            ],
            "image/png": "[encoded data removed]"
          },
          "metadata": {
            "needs_background": "light"
          }
        }
      ]
    },
    {
      "cell_type": "code",
      "source": [
        "from sklearn import tree\n",
        "from sklearn import preprocessing\n",
        "lab = preprocessing.LabelEncoder()\n",
        "y_transformed = lab.fit_transform(y_train)\n",
        "\n",
        "model=tree.DecisionTreeClassifier()\n",
        "model.fit(X_train.reshape(1456,-1),y_transformed)\n",
        "y_pred=model.predict(X_test.reshape(342,-1))\n",
        "ac.append(accuracy_score(y_pred,y_test,sample_weight=0.8)*100)"
      ],
      "metadata": {
        "id": "8puaVtVn6VQH"
      },
      "execution_count": 60,
      "outputs": []
    },
    {
      "cell_type": "code",
      "source": [
        "import numpy as np\n",
        "import seaborn as sns\n",
        "import matplotlib as plt\n",
        "\n",
        "plt.style.use('dark_background')\n",
        "x=['Decision Tree','ANN']\n",
        "ac.reverse()\n",
        "ax=sns.barplot(x,ac)\n",
        "ax.set_title('Accuracy comparison')\n",
        "ax.set_ylabel('Accuracy')\n",
        "#ax.yaxis.set_major_locator(ticker.LinearLocator())\n",
        "print(\"the accuracy of {} is {} and {} is {}\".format(x[0],ac[0],x[1],ac[1]))\n",
        "ax.set_ylim(50,100)"
      ],
      "metadata": {
        "colab": {
          "base_uri": "https://localhost:8080/",
          "height": 316
        },
        "id": "Xd8TEMZK6VTh",
        "outputId": "850768a8-ec83-4b21-99b7-dc6d923352a9"
      },
      "execution_count": 61,
      "outputs": [
        {
          "output_type": "stream",
          "name": "stdout",
          "text": [
            "the accuracy of Decision Tree is 94.19999999999999 and ANN is 96.00999999999999\n"
          ]
        },
        {
          "output_type": "execute_result",
          "data": {
            "text/plain": [
              "(50.0, 100.0)"
            ]
          },
          "metadata": {},
          "execution_count": 61
        },
        {
          "output_type": "display_data",
          "data": {
            "text/plain": [
              "<Figure size 432x288 with 1 Axes>"
            ],
            "image/png": "[encoded data removed]"
          },
          "metadata": {}
        }
      ]
    }
  ]
}